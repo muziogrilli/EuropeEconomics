{
 "cells": [
  {
   "cell_type": "markdown",
   "metadata": {},
   "source": [
    "# Marginal Effect Analysis"
   ]
  },
  {
   "cell_type": "code",
   "execution_count": 30,
   "metadata": {},
   "outputs": [],
   "source": [
    "Data <- readRDS(file = \"./CleanData.rds\")"
   ]
  },
  {
   "cell_type": "markdown",
   "metadata": {},
   "source": [
    "## Output a portion of the table"
   ]
  },
  {
   "cell_type": "code",
   "execution_count": 31,
   "metadata": {},
   "outputs": [
    {
     "data": {
      "text/html": [
       "<table>\n",
       "<thead><tr><th scope=col>BvD.ID.number</th><th scope=col>ip_owner</th><th scope=col>patent_only</th><th scope=col>tm_only</th><th scope=col>des_only</th><th scope=col>pat_tm</th><th scope=col>pat_des</th><th scope=col>tm_des</th><th scope=col>pat_tm_des</th><th scope=col>n_ep_pats_stock</th><th scope=col>n_nat_pats_stock</th><th scope=col>n_eu_tm_stock</th><th scope=col>n_nat_tm_stock</th><th scope=col>n_eu_des_stock</th><th scope=col>n_nat_des_stock</th></tr></thead>\n",
       "<tbody>\n",
       "\t<tr><td>AT9010000065</td><td>1           </td><td>0           </td><td>0           </td><td>0           </td><td>0           </td><td>0           </td><td>0           </td><td>1           </td><td>274.75      </td><td>242.0       </td><td>53.75       </td><td>59.25       </td><td>269.00      </td><td>12          </td></tr>\n",
       "\t<tr><td>AT9010000082</td><td>1           </td><td>0           </td><td>0           </td><td>0           </td><td>0           </td><td>0           </td><td>0           </td><td>1           </td><td>153.50      </td><td> 27.5       </td><td>35.50       </td><td>19.00       </td><td> 85.75      </td><td> 8          </td></tr>\n",
       "\t<tr><td>AT9010000259</td><td>1           </td><td>0           </td><td>0           </td><td>1           </td><td>0           </td><td>0           </td><td>0           </td><td>0           </td><td>  0.00      </td><td>  0.0       </td><td> 0.00       </td><td> 0.00       </td><td>  0.00      </td><td> 4          </td></tr>\n",
       "\t<tr><td>AT9010000310</td><td>1           </td><td>0           </td><td>0           </td><td>0           </td><td>1           </td><td>0           </td><td>0           </td><td>0           </td><td>  1.00      </td><td>  0.5       </td><td>21.50       </td><td>33.25       </td><td>  0.00      </td><td> 0          </td></tr>\n",
       "\t<tr><td>AT9010000337</td><td>0           </td><td>0           </td><td>0           </td><td>0           </td><td>0           </td><td>0           </td><td>0           </td><td>0           </td><td>  0.00      </td><td>  0.0       </td><td> 0.00       </td><td> 0.00       </td><td>  0.00      </td><td> 0          </td></tr>\n",
       "\t<tr><td>AT9010000607</td><td>0           </td><td>0           </td><td>0           </td><td>0           </td><td>0           </td><td>0           </td><td>0           </td><td>0           </td><td>  0.00      </td><td>  0.0       </td><td> 0.00       </td><td> 0.00       </td><td>  0.00      </td><td> 0          </td></tr>\n",
       "</tbody>\n",
       "</table>\n"
      ],
      "text/latex": [
       "\\begin{tabular}{r|lllllllllllllll}\n",
       " BvD.ID.number & ip\\_owner & patent\\_only & tm\\_only & des\\_only & pat\\_tm & pat\\_des & tm\\_des & pat\\_tm\\_des & n\\_ep\\_pats\\_stock & n\\_nat\\_pats\\_stock & n\\_eu\\_tm\\_stock & n\\_nat\\_tm\\_stock & n\\_eu\\_des\\_stock & n\\_nat\\_des\\_stock\\\\\n",
       "\\hline\n",
       "\t AT9010000065 & 1            & 0            & 0            & 0            & 0            & 0            & 0            & 1            & 274.75       & 242.0        & 53.75        & 59.25        & 269.00       & 12          \\\\\n",
       "\t AT9010000082 & 1            & 0            & 0            & 0            & 0            & 0            & 0            & 1            & 153.50       &  27.5        & 35.50        & 19.00        &  85.75       &  8          \\\\\n",
       "\t AT9010000259 & 1            & 0            & 0            & 1            & 0            & 0            & 0            & 0            &   0.00       &   0.0        &  0.00        &  0.00        &   0.00       &  4          \\\\\n",
       "\t AT9010000310 & 1            & 0            & 0            & 0            & 1            & 0            & 0            & 0            &   1.00       &   0.5        & 21.50        & 33.25        &   0.00       &  0          \\\\\n",
       "\t AT9010000337 & 0            & 0            & 0            & 0            & 0            & 0            & 0            & 0            &   0.00       &   0.0        &  0.00        &  0.00        &   0.00       &  0          \\\\\n",
       "\t AT9010000607 & 0            & 0            & 0            & 0            & 0            & 0            & 0            & 0            &   0.00       &   0.0        &  0.00        &  0.00        &   0.00       &  0          \\\\\n",
       "\\end{tabular}\n"
      ],
      "text/markdown": [
       "\n",
       "| BvD.ID.number | ip_owner | patent_only | tm_only | des_only | pat_tm | pat_des | tm_des | pat_tm_des | n_ep_pats_stock | n_nat_pats_stock | n_eu_tm_stock | n_nat_tm_stock | n_eu_des_stock | n_nat_des_stock |\n",
       "|---|---|---|---|---|---|---|---|---|---|---|---|---|---|---|\n",
       "| AT9010000065 | 1            | 0            | 0            | 0            | 0            | 0            | 0            | 1            | 274.75       | 242.0        | 53.75        | 59.25        | 269.00       | 12           |\n",
       "| AT9010000082 | 1            | 0            | 0            | 0            | 0            | 0            | 0            | 1            | 153.50       |  27.5        | 35.50        | 19.00        |  85.75       |  8           |\n",
       "| AT9010000259 | 1            | 0            | 0            | 1            | 0            | 0            | 0            | 0            |   0.00       |   0.0        |  0.00        |  0.00        |   0.00       |  4           |\n",
       "| AT9010000310 | 1            | 0            | 0            | 0            | 1            | 0            | 0            | 0            |   1.00       |   0.5        | 21.50        | 33.25        |   0.00       |  0           |\n",
       "| AT9010000337 | 0            | 0            | 0            | 0            | 0            | 0            | 0            | 0            |   0.00       |   0.0        |  0.00        |  0.00        |   0.00       |  0           |\n",
       "| AT9010000607 | 0            | 0            | 0            | 0            | 0            | 0            | 0            | 0            |   0.00       |   0.0        |  0.00        |  0.00        |   0.00       |  0           |\n",
       "\n"
      ],
      "text/plain": [
       "  BvD.ID.number ip_owner patent_only tm_only des_only pat_tm pat_des tm_des\n",
       "1 AT9010000065  1        0           0       0        0      0       0     \n",
       "2 AT9010000082  1        0           0       0        0      0       0     \n",
       "3 AT9010000259  1        0           0       1        0      0       0     \n",
       "4 AT9010000310  1        0           0       0        1      0       0     \n",
       "5 AT9010000337  0        0           0       0        0      0       0     \n",
       "6 AT9010000607  0        0           0       0        0      0       0     \n",
       "  pat_tm_des n_ep_pats_stock n_nat_pats_stock n_eu_tm_stock n_nat_tm_stock\n",
       "1 1          274.75          242.0            53.75         59.25         \n",
       "2 1          153.50           27.5            35.50         19.00         \n",
       "3 0            0.00            0.0             0.00          0.00         \n",
       "4 0            1.00            0.5            21.50         33.25         \n",
       "5 0            0.00            0.0             0.00          0.00         \n",
       "6 0            0.00            0.0             0.00          0.00         \n",
       "  n_eu_des_stock n_nat_des_stock\n",
       "1 269.00         12             \n",
       "2  85.75          8             \n",
       "3   0.00          4             \n",
       "4   0.00          0             \n",
       "5   0.00          0             \n",
       "6   0.00          0             "
      ]
     },
     "metadata": {},
     "output_type": "display_data"
    }
   ],
   "source": [
    "head(Data[,c(\"BvD.ID.number\",\"ip_owner\",\"patent_only\",\"tm_only\",\"des_only\",\"pat_tm\",\"pat_des\",\"tm_des\",\"pat_tm_des\",\"n_ep_pats_stock\", \"n_nat_pats_stock\",\"n_eu_tm_stock\", \"n_nat_tm_stock\",\"n_eu_des_stock\",\"n_nat_des_stock\")])"
   ]
  },
  {
   "cell_type": "markdown",
   "metadata": {},
   "source": [
    "## Merge national and european stocks by category "
   ]
  },
  {
   "cell_type": "code",
   "execution_count": 32,
   "metadata": {},
   "outputs": [
    {
     "data": {
      "text/html": [
       "<table>\n",
       "<thead><tr><th scope=col>BvD.ID.number</th><th scope=col>ip_owner</th><th scope=col>patent_only</th><th scope=col>tm_only</th><th scope=col>des_only</th><th scope=col>pat_tm</th><th scope=col>pat_des</th><th scope=col>tm_des</th><th scope=col>pat_tm_des</th><th scope=col>n_ep_pats_stock</th><th scope=col>n_nat_pats_stock</th><th scope=col>n_eu_tm_stock</th><th scope=col>n_nat_tm_stock</th><th scope=col>n_eu_des_stock</th><th scope=col>n_nat_des_stock</th><th scope=col>n_pats_stock</th><th scope=col>n_tm_stock</th><th scope=col>n_des_stock</th></tr></thead>\n",
       "<tbody>\n",
       "\t<tr><td>AT9010000065</td><td>1           </td><td>0           </td><td>0           </td><td>0           </td><td>0           </td><td>0           </td><td>0           </td><td>1           </td><td>274.75      </td><td>242.0       </td><td>53.75       </td><td>59.25       </td><td>269.00      </td><td>12          </td><td>516.75      </td><td>113.00      </td><td>281.00      </td></tr>\n",
       "\t<tr><td>AT9010000082</td><td>1           </td><td>0           </td><td>0           </td><td>0           </td><td>0           </td><td>0           </td><td>0           </td><td>1           </td><td>153.50      </td><td> 27.5       </td><td>35.50       </td><td>19.00       </td><td> 85.75      </td><td> 8          </td><td>181.00      </td><td> 54.50      </td><td> 93.75      </td></tr>\n",
       "\t<tr><td>AT9010000259</td><td>1           </td><td>0           </td><td>0           </td><td>1           </td><td>0           </td><td>0           </td><td>0           </td><td>0           </td><td>  0.00      </td><td>  0.0       </td><td> 0.00       </td><td> 0.00       </td><td>  0.00      </td><td> 4          </td><td>  0.00      </td><td>  0.00      </td><td>  4.00      </td></tr>\n",
       "\t<tr><td>AT9010000310</td><td>1           </td><td>0           </td><td>0           </td><td>0           </td><td>1           </td><td>0           </td><td>0           </td><td>0           </td><td>  1.00      </td><td>  0.5       </td><td>21.50       </td><td>33.25       </td><td>  0.00      </td><td> 0          </td><td>  1.50      </td><td> 54.75      </td><td>  0.00      </td></tr>\n",
       "\t<tr><td>AT9010000337</td><td>0           </td><td>0           </td><td>0           </td><td>0           </td><td>0           </td><td>0           </td><td>0           </td><td>0           </td><td>  0.00      </td><td>  0.0       </td><td> 0.00       </td><td> 0.00       </td><td>  0.00      </td><td> 0          </td><td>  0.00      </td><td>  0.00      </td><td>  0.00      </td></tr>\n",
       "\t<tr><td>AT9010000607</td><td>0           </td><td>0           </td><td>0           </td><td>0           </td><td>0           </td><td>0           </td><td>0           </td><td>0           </td><td>  0.00      </td><td>  0.0       </td><td> 0.00       </td><td> 0.00       </td><td>  0.00      </td><td> 0          </td><td>  0.00      </td><td>  0.00      </td><td>  0.00      </td></tr>\n",
       "</tbody>\n",
       "</table>\n"
      ],
      "text/latex": [
       "\\begin{tabular}{r|llllllllllllllllll}\n",
       " BvD.ID.number & ip\\_owner & patent\\_only & tm\\_only & des\\_only & pat\\_tm & pat\\_des & tm\\_des & pat\\_tm\\_des & n\\_ep\\_pats\\_stock & n\\_nat\\_pats\\_stock & n\\_eu\\_tm\\_stock & n\\_nat\\_tm\\_stock & n\\_eu\\_des\\_stock & n\\_nat\\_des\\_stock & n\\_pats\\_stock & n\\_tm\\_stock & n\\_des\\_stock\\\\\n",
       "\\hline\n",
       "\t AT9010000065 & 1            & 0            & 0            & 0            & 0            & 0            & 0            & 1            & 274.75       & 242.0        & 53.75        & 59.25        & 269.00       & 12           & 516.75       & 113.00       & 281.00      \\\\\n",
       "\t AT9010000082 & 1            & 0            & 0            & 0            & 0            & 0            & 0            & 1            & 153.50       &  27.5        & 35.50        & 19.00        &  85.75       &  8           & 181.00       &  54.50       &  93.75      \\\\\n",
       "\t AT9010000259 & 1            & 0            & 0            & 1            & 0            & 0            & 0            & 0            &   0.00       &   0.0        &  0.00        &  0.00        &   0.00       &  4           &   0.00       &   0.00       &   4.00      \\\\\n",
       "\t AT9010000310 & 1            & 0            & 0            & 0            & 1            & 0            & 0            & 0            &   1.00       &   0.5        & 21.50        & 33.25        &   0.00       &  0           &   1.50       &  54.75       &   0.00      \\\\\n",
       "\t AT9010000337 & 0            & 0            & 0            & 0            & 0            & 0            & 0            & 0            &   0.00       &   0.0        &  0.00        &  0.00        &   0.00       &  0           &   0.00       &   0.00       &   0.00      \\\\\n",
       "\t AT9010000607 & 0            & 0            & 0            & 0            & 0            & 0            & 0            & 0            &   0.00       &   0.0        &  0.00        &  0.00        &   0.00       &  0           &   0.00       &   0.00       &   0.00      \\\\\n",
       "\\end{tabular}\n"
      ],
      "text/markdown": [
       "\n",
       "| BvD.ID.number | ip_owner | patent_only | tm_only | des_only | pat_tm | pat_des | tm_des | pat_tm_des | n_ep_pats_stock | n_nat_pats_stock | n_eu_tm_stock | n_nat_tm_stock | n_eu_des_stock | n_nat_des_stock | n_pats_stock | n_tm_stock | n_des_stock |\n",
       "|---|---|---|---|---|---|---|---|---|---|---|---|---|---|---|---|---|---|\n",
       "| AT9010000065 | 1            | 0            | 0            | 0            | 0            | 0            | 0            | 1            | 274.75       | 242.0        | 53.75        | 59.25        | 269.00       | 12           | 516.75       | 113.00       | 281.00       |\n",
       "| AT9010000082 | 1            | 0            | 0            | 0            | 0            | 0            | 0            | 1            | 153.50       |  27.5        | 35.50        | 19.00        |  85.75       |  8           | 181.00       |  54.50       |  93.75       |\n",
       "| AT9010000259 | 1            | 0            | 0            | 1            | 0            | 0            | 0            | 0            |   0.00       |   0.0        |  0.00        |  0.00        |   0.00       |  4           |   0.00       |   0.00       |   4.00       |\n",
       "| AT9010000310 | 1            | 0            | 0            | 0            | 1            | 0            | 0            | 0            |   1.00       |   0.5        | 21.50        | 33.25        |   0.00       |  0           |   1.50       |  54.75       |   0.00       |\n",
       "| AT9010000337 | 0            | 0            | 0            | 0            | 0            | 0            | 0            | 0            |   0.00       |   0.0        |  0.00        |  0.00        |   0.00       |  0           |   0.00       |   0.00       |   0.00       |\n",
       "| AT9010000607 | 0            | 0            | 0            | 0            | 0            | 0            | 0            | 0            |   0.00       |   0.0        |  0.00        |  0.00        |   0.00       |  0           |   0.00       |   0.00       |   0.00       |\n",
       "\n"
      ],
      "text/plain": [
       "  BvD.ID.number ip_owner patent_only tm_only des_only pat_tm pat_des tm_des\n",
       "1 AT9010000065  1        0           0       0        0      0       0     \n",
       "2 AT9010000082  1        0           0       0        0      0       0     \n",
       "3 AT9010000259  1        0           0       1        0      0       0     \n",
       "4 AT9010000310  1        0           0       0        1      0       0     \n",
       "5 AT9010000337  0        0           0       0        0      0       0     \n",
       "6 AT9010000607  0        0           0       0        0      0       0     \n",
       "  pat_tm_des n_ep_pats_stock n_nat_pats_stock n_eu_tm_stock n_nat_tm_stock\n",
       "1 1          274.75          242.0            53.75         59.25         \n",
       "2 1          153.50           27.5            35.50         19.00         \n",
       "3 0            0.00            0.0             0.00          0.00         \n",
       "4 0            1.00            0.5            21.50         33.25         \n",
       "5 0            0.00            0.0             0.00          0.00         \n",
       "6 0            0.00            0.0             0.00          0.00         \n",
       "  n_eu_des_stock n_nat_des_stock n_pats_stock n_tm_stock n_des_stock\n",
       "1 269.00         12              516.75       113.00     281.00     \n",
       "2  85.75          8              181.00        54.50      93.75     \n",
       "3   0.00          4                0.00         0.00       4.00     \n",
       "4   0.00          0                1.50        54.75       0.00     \n",
       "5   0.00          0                0.00         0.00       0.00     \n",
       "6   0.00          0                0.00         0.00       0.00     "
      ]
     },
     "metadata": {},
     "output_type": "display_data"
    }
   ],
   "source": [
    "Data$n_pats_stock <- Data$n_ep_pats_stock + Data$n_nat_pats_stock;\n",
    "Data$n_tm_stock   <- Data$n_eu_tm_stock   + Data$n_nat_tm_stock;\n",
    "Data$n_des_stock  <- Data$n_eu_des_stock  + Data$n_nat_des_stock;\n",
    "head(Data[,c(\"BvD.ID.number\",\"ip_owner\",\"patent_only\",\"tm_only\",\"des_only\",\"pat_tm\",\"pat_des\",\"tm_des\",\"pat_tm_des\",\"n_ep_pats_stock\", \"n_nat_pats_stock\",\"n_eu_tm_stock\", \"n_nat_tm_stock\",\"n_eu_des_stock\",\"n_nat_des_stock\", \"n_pats_stock\", \"n_tm_stock\", \"n_des_stock\")])"
   ]
  },
  {
   "cell_type": "markdown",
   "metadata": {},
   "source": [
    "## Compute shares of the stocks on the single category"
   ]
  },
  {
   "cell_type": "code",
   "execution_count": 33,
   "metadata": {},
   "outputs": [
    {
     "data": {
      "text/html": [
       "<table>\n",
       "<thead><tr><th scope=col>BvD.ID.number</th><th scope=col>ip_owner</th><th scope=col>patent_only</th><th scope=col>tm_only</th><th scope=col>des_only</th><th scope=col>pat_tm</th><th scope=col>pat_des</th><th scope=col>tm_des</th><th scope=col>pat_tm_des</th><th scope=col>n_ep_pats_stock</th><th scope=col>...</th><th scope=col>n_eu_tm_stock</th><th scope=col>n_nat_tm_stock</th><th scope=col>n_eu_des_stock</th><th scope=col>n_nat_des_stock</th><th scope=col>n_pats_stock</th><th scope=col>n_tm_stock</th><th scope=col>n_des_stock</th><th scope=col>pat_share</th><th scope=col>tm_share</th><th scope=col>des_share</th></tr></thead>\n",
       "<tbody>\n",
       "\t<tr><td>AT9010000065</td><td>1           </td><td>0           </td><td>0           </td><td>0           </td><td>0           </td><td>0           </td><td>0           </td><td>1           </td><td>274.75      </td><td>...         </td><td>53.75       </td><td>59.25       </td><td>269.00      </td><td>12          </td><td>516.75      </td><td>113.00      </td><td>281.00      </td><td>0.56738951  </td><td>0.1240736   </td><td>0.3085369   </td></tr>\n",
       "\t<tr><td>AT9010000082</td><td>1           </td><td>0           </td><td>0           </td><td>0           </td><td>0           </td><td>0           </td><td>0           </td><td>1           </td><td>153.50      </td><td>...         </td><td>35.50       </td><td>19.00       </td><td> 85.75      </td><td> 8          </td><td>181.00      </td><td> 54.50      </td><td> 93.75      </td><td>0.54973424  </td><td>0.1655277   </td><td>0.2847380   </td></tr>\n",
       "\t<tr><td>AT9010000259</td><td>1           </td><td>0           </td><td>0           </td><td>1           </td><td>0           </td><td>0           </td><td>0           </td><td>0           </td><td>  0.00      </td><td>...         </td><td> 0.00       </td><td> 0.00       </td><td>  0.00      </td><td> 4          </td><td>  0.00      </td><td>  0.00      </td><td>  4.00      </td><td>0.00000000  </td><td>0.0000000   </td><td>1.0000000   </td></tr>\n",
       "\t<tr><td>AT9010000310</td><td>1           </td><td>0           </td><td>0           </td><td>0           </td><td>1           </td><td>0           </td><td>0           </td><td>0           </td><td>  1.00      </td><td>...         </td><td>21.50       </td><td>33.25       </td><td>  0.00      </td><td> 0          </td><td>  1.50      </td><td> 54.75      </td><td>  0.00      </td><td>0.02666667  </td><td>0.9733333   </td><td>0.0000000   </td></tr>\n",
       "\t<tr><td>AT9010000337</td><td>0           </td><td>0           </td><td>0           </td><td>0           </td><td>0           </td><td>0           </td><td>0           </td><td>0           </td><td>  0.00      </td><td>...         </td><td> 0.00       </td><td> 0.00       </td><td>  0.00      </td><td> 0          </td><td>  0.00      </td><td>  0.00      </td><td>  0.00      </td><td>0.00000000  </td><td>0.0000000   </td><td>0.0000000   </td></tr>\n",
       "\t<tr><td>AT9010000607</td><td>0           </td><td>0           </td><td>0           </td><td>0           </td><td>0           </td><td>0           </td><td>0           </td><td>0           </td><td>  0.00      </td><td>...         </td><td> 0.00       </td><td> 0.00       </td><td>  0.00      </td><td> 0          </td><td>  0.00      </td><td>  0.00      </td><td>  0.00      </td><td>0.00000000  </td><td>0.0000000   </td><td>0.0000000   </td></tr>\n",
       "</tbody>\n",
       "</table>\n"
      ],
      "text/latex": [
       "\\begin{tabular}{r|lllllllllllllllllllll}\n",
       " BvD.ID.number & ip\\_owner & patent\\_only & tm\\_only & des\\_only & pat\\_tm & pat\\_des & tm\\_des & pat\\_tm\\_des & n\\_ep\\_pats\\_stock & ... & n\\_eu\\_tm\\_stock & n\\_nat\\_tm\\_stock & n\\_eu\\_des\\_stock & n\\_nat\\_des\\_stock & n\\_pats\\_stock & n\\_tm\\_stock & n\\_des\\_stock & pat\\_share & tm\\_share & des\\_share\\\\\n",
       "\\hline\n",
       "\t AT9010000065 & 1            & 0            & 0            & 0            & 0            & 0            & 0            & 1            & 274.75       & ...          & 53.75        & 59.25        & 269.00       & 12           & 516.75       & 113.00       & 281.00       & 0.56738951   & 0.1240736    & 0.3085369   \\\\\n",
       "\t AT9010000082 & 1            & 0            & 0            & 0            & 0            & 0            & 0            & 1            & 153.50       & ...          & 35.50        & 19.00        &  85.75       &  8           & 181.00       &  54.50       &  93.75       & 0.54973424   & 0.1655277    & 0.2847380   \\\\\n",
       "\t AT9010000259 & 1            & 0            & 0            & 1            & 0            & 0            & 0            & 0            &   0.00       & ...          &  0.00        &  0.00        &   0.00       &  4           &   0.00       &   0.00       &   4.00       & 0.00000000   & 0.0000000    & 1.0000000   \\\\\n",
       "\t AT9010000310 & 1            & 0            & 0            & 0            & 1            & 0            & 0            & 0            &   1.00       & ...          & 21.50        & 33.25        &   0.00       &  0           &   1.50       &  54.75       &   0.00       & 0.02666667   & 0.9733333    & 0.0000000   \\\\\n",
       "\t AT9010000337 & 0            & 0            & 0            & 0            & 0            & 0            & 0            & 0            &   0.00       & ...          &  0.00        &  0.00        &   0.00       &  0           &   0.00       &   0.00       &   0.00       & 0.00000000   & 0.0000000    & 0.0000000   \\\\\n",
       "\t AT9010000607 & 0            & 0            & 0            & 0            & 0            & 0            & 0            & 0            &   0.00       & ...          &  0.00        &  0.00        &   0.00       &  0           &   0.00       &   0.00       &   0.00       & 0.00000000   & 0.0000000    & 0.0000000   \\\\\n",
       "\\end{tabular}\n"
      ],
      "text/markdown": [
       "\n",
       "| BvD.ID.number | ip_owner | patent_only | tm_only | des_only | pat_tm | pat_des | tm_des | pat_tm_des | n_ep_pats_stock | ... | n_eu_tm_stock | n_nat_tm_stock | n_eu_des_stock | n_nat_des_stock | n_pats_stock | n_tm_stock | n_des_stock | pat_share | tm_share | des_share |\n",
       "|---|---|---|---|---|---|---|---|---|---|---|---|---|---|---|---|---|---|---|---|---|\n",
       "| AT9010000065 | 1            | 0            | 0            | 0            | 0            | 0            | 0            | 1            | 274.75       | ...          | 53.75        | 59.25        | 269.00       | 12           | 516.75       | 113.00       | 281.00       | 0.56738951   | 0.1240736    | 0.3085369    |\n",
       "| AT9010000082 | 1            | 0            | 0            | 0            | 0            | 0            | 0            | 1            | 153.50       | ...          | 35.50        | 19.00        |  85.75       |  8           | 181.00       |  54.50       |  93.75       | 0.54973424   | 0.1655277    | 0.2847380    |\n",
       "| AT9010000259 | 1            | 0            | 0            | 1            | 0            | 0            | 0            | 0            |   0.00       | ...          |  0.00        |  0.00        |   0.00       |  4           |   0.00       |   0.00       |   4.00       | 0.00000000   | 0.0000000    | 1.0000000    |\n",
       "| AT9010000310 | 1            | 0            | 0            | 0            | 1            | 0            | 0            | 0            |   1.00       | ...          | 21.50        | 33.25        |   0.00       |  0           |   1.50       |  54.75       |   0.00       | 0.02666667   | 0.9733333    | 0.0000000    |\n",
       "| AT9010000337 | 0            | 0            | 0            | 0            | 0            | 0            | 0            | 0            |   0.00       | ...          |  0.00        |  0.00        |   0.00       |  0           |   0.00       |   0.00       |   0.00       | 0.00000000   | 0.0000000    | 0.0000000    |\n",
       "| AT9010000607 | 0            | 0            | 0            | 0            | 0            | 0            | 0            | 0            |   0.00       | ...          |  0.00        |  0.00        |   0.00       |  0           |   0.00       |   0.00       |   0.00       | 0.00000000   | 0.0000000    | 0.0000000    |\n",
       "\n"
      ],
      "text/plain": [
       "  BvD.ID.number ip_owner patent_only tm_only des_only pat_tm pat_des tm_des\n",
       "1 AT9010000065  1        0           0       0        0      0       0     \n",
       "2 AT9010000082  1        0           0       0        0      0       0     \n",
       "3 AT9010000259  1        0           0       1        0      0       0     \n",
       "4 AT9010000310  1        0           0       0        1      0       0     \n",
       "5 AT9010000337  0        0           0       0        0      0       0     \n",
       "6 AT9010000607  0        0           0       0        0      0       0     \n",
       "  pat_tm_des n_ep_pats_stock ... n_eu_tm_stock n_nat_tm_stock n_eu_des_stock\n",
       "1 1          274.75          ... 53.75         59.25          269.00        \n",
       "2 1          153.50          ... 35.50         19.00           85.75        \n",
       "3 0            0.00          ...  0.00          0.00            0.00        \n",
       "4 0            1.00          ... 21.50         33.25            0.00        \n",
       "5 0            0.00          ...  0.00          0.00            0.00        \n",
       "6 0            0.00          ...  0.00          0.00            0.00        \n",
       "  n_nat_des_stock n_pats_stock n_tm_stock n_des_stock pat_share  tm_share \n",
       "1 12              516.75       113.00     281.00      0.56738951 0.1240736\n",
       "2  8              181.00        54.50      93.75      0.54973424 0.1655277\n",
       "3  4                0.00         0.00       4.00      0.00000000 0.0000000\n",
       "4  0                1.50        54.75       0.00      0.02666667 0.9733333\n",
       "5  0                0.00         0.00       0.00      0.00000000 0.0000000\n",
       "6  0                0.00         0.00       0.00      0.00000000 0.0000000\n",
       "  des_share\n",
       "1 0.3085369\n",
       "2 0.2847380\n",
       "3 1.0000000\n",
       "4 0.0000000\n",
       "5 0.0000000\n",
       "6 0.0000000"
      ]
     },
     "metadata": {},
     "output_type": "display_data"
    }
   ],
   "source": [
    "library(dplyr)\n",
    "Data <-Data %>%\n",
    " mutate(\n",
    "  pat_share = n_pats_stock/ (n_pats_stock + n_tm_stock + n_des_stock),\n",
    "  tm_share  = n_tm_stock  / (n_pats_stock + n_tm_stock + n_des_stock),\n",
    "  des_share = n_des_stock / (n_pats_stock + n_tm_stock + n_des_stock)\n",
    ")\n",
    "\n",
    "Data <- Data %>% mutate_at(vars(pat_share, tm_share, des_share), ~replace(., is.nan(.), 0))\n",
    "\n",
    "head(Data[,c(\"BvD.ID.number\",\"ip_owner\",\"patent_only\",\"tm_only\",\"des_only\",\"pat_tm\",\"pat_des\",\"tm_des\",\"pat_tm_des\",\"n_ep_pats_stock\", \"n_nat_pats_stock\",\"n_eu_tm_stock\", \"n_nat_tm_stock\",\"n_eu_des_stock\",\"n_nat_des_stock\", \"n_pats_stock\", \"n_tm_stock\", \"n_des_stock\", \"pat_share\", \"tm_share\", \"des_share\")])"
   ]
  },
  {
   "cell_type": "markdown",
   "metadata": {},
   "source": [
    "## Compute share coefficients to be employed in the linear regression"
   ]
  },
  {
   "cell_type": "code",
   "execution_count": 34,
   "metadata": {},
   "outputs": [],
   "source": [
    "Data <-Data %>%\n",
    " mutate(\n",
    "  pat_tm_pat_share     = pat_tm     * pat_share,\n",
    "  pat_tm_tm_share      = pat_tm     * tm_share ,\n",
    "  pat_des_pat_share    = pat_des    * pat_share, \n",
    "  pat_des_des_share    = pat_des    * des_share,\n",
    "  tm_des_tm_share      = tm_des     * tm_share ,  \n",
    "  tm_des_des_share     = tm_des     * des_share,\n",
    "  pat_tm_des_pat_share = pat_tm_des * pat_share, \n",
    "  pat_tm_des_tm_share  = pat_tm_des * tm_share ,  \n",
    "  pat_tm_des_des_share = pat_tm_des * des_share   \n",
    ")"
   ]
  },
  {
   "cell_type": "markdown",
   "metadata": {},
   "source": [
    "## Perform linear regression on the original model \n",
    "\n",
    "$Log(Rev/Empl) = PAT_{Only} + TM_{Only} + DES_{Only} + PAT \\& TM + PAT \\& DES + TM \\& DES + PAT \\& TM \\& DES + Age + Country + Sector + SME + e $"
   ]
  },
  {
   "cell_type": "code",
   "execution_count": 35,
   "metadata": {},
   "outputs": [],
   "source": [
    "reg1 = lm(log_rev_empl ~ patent_only + tm_only + des_only + pat_tm + pat_des + tm_des + pat_tm_des + age + country + sector + sme, data = Data)"
   ]
  },
  {
   "cell_type": "code",
   "execution_count": 36,
   "metadata": {},
   "outputs": [
    {
     "name": "stdout",
     "output_type": "stream",
     "text": [
      "\n",
      "---------------------------------------------------\n",
      "                          log (Rev / Employee)     \n",
      "---------------------------------------------------\n",
      "Patent Only                     0.158***           \n",
      "                                (0.032)            \n",
      "TM Only                         0.223***           \n",
      "                                (0.008)            \n",
      "Design Only                     0.114**            \n",
      "                                (0.053)            \n",
      "Patent - TM                     0.223***           \n",
      "                                (0.022)            \n",
      "Patent - Design                  0.130             \n",
      "                                (0.089)            \n",
      "TM - Design                     0.223***           \n",
      "                                (0.023)            \n",
      "Patent - TM - Design            0.188***           \n",
      "                                (0.026)            \n",
      "Age                             0.001***           \n",
      "                                (0.0002)           \n",
      "SME                            -0.409***           \n",
      "                                (0.009)            \n",
      "Log(Employment)                 5.036***           \n",
      "                                (0.261)            \n",
      "Country?                          Yes              \n",
      "Sector?                           Yes              \n",
      "N                                88,815            \n",
      "R2                               0.418             \n",
      "Adjusted R2                      0.417             \n",
      "---------------------------------------------------\n",
      "Note:                ***p < .01; **p < .05; *p < .1\n"
     ]
    }
   ],
   "source": [
    "library(stargazer)\n",
    "reg_cov_labels <- c(\"Patent Only\", \"TM Only\", \"Design Only\", \"Patent - TM\", \"Patent - Design\", \"TM - Design\", \"Patent - TM - Design\", \"Age\", \"SME\", \"$Log(Employment)$\")\n",
    "stargazer(reg1, type = \"text\", style=\"jpam\", dep.var.labels = \"$log (Rev / Employee)$\", covariate.labels=reg_cov_labels, omit = c(\"country\",\"sector\"), omit.labels = c(\"Country?\",\"Sector?\"), title=\"Table 15 Model 2\", align=FALSE, font.size = \"tiny\", float = FALSE, single.row = FALSE, keep.stat = c(\"n\",\"rsq\",\"adj.rsq\",\"res.dev\",\"aic\", \"bic\"))"
   ]
  },
  {
   "cell_type": "markdown",
   "metadata": {},
   "source": [
    "## Perform regression on the modified model including shares\n",
    "\n",
    "$Log(Rev/Empl) = PAT_{Only} + TM_{Only} + DES_{Only} \\\\\n",
    "+ \\%PAT * PAT \\& TM + \\%TM * PAT \\& TM \\\\\n",
    "+ \\%PAT * PAT \\& DES + \\%DES * PAT \\& DES \\\\\n",
    "+ \\%TM  * TM \\& DES + \\%DES  * TM \\& DES \\\\\n",
    "+ \\%PAT * PAT \\& TM \\& DES + \\%TM * PAT \\& TM \\& DES + \\%DES * PAT \\& TM \\& DES \\\\\n",
    "+ Age + Country + Sector + SME + e $"
   ]
  },
  {
   "cell_type": "code",
   "execution_count": 37,
   "metadata": {},
   "outputs": [],
   "source": [
    "reg2 = lm(log_rev_empl ~ patent_only         + tm_only              + des_only \n",
    "                      + pat_tm_pat_share     + pat_tm_tm_share \n",
    "                      + pat_des_pat_share    + pat_des_des_share  \n",
    "                      + tm_des_tm_share      + tm_des_des_share \n",
    "                      + pat_tm_des_pat_share + pat_tm_des_tm_share  + pat_tm_des_des_share  \n",
    "                      + age + country + sector + sme, data = Data)"
   ]
  },
  {
   "cell_type": "code",
   "execution_count": 38,
   "metadata": {},
   "outputs": [
    {
     "name": "stdout",
     "output_type": "stream",
     "text": [
      "\n",
      "---------------------------------------------------\n",
      "                          log (Rev / Employee)     \n",
      "---------------------------------------------------\n",
      "patent_only                     0.158***           \n",
      "                                (0.032)            \n",
      "tm_only                         0.223***           \n",
      "                                (0.008)            \n",
      "des_only                        0.114**            \n",
      "                                (0.053)            \n",
      "pat_tm_pat_share                0.202***           \n",
      "                                (0.050)            \n",
      "pat_tm_tm_share                 0.236***           \n",
      "                                (0.034)            \n",
      "pat_des_pat_share                0.074             \n",
      "                                (0.154)            \n",
      "pat_des_des_share                0.200             \n",
      "                                (0.172)            \n",
      "tm_des_tm_share                 0.273***           \n",
      "                                (0.031)            \n",
      "tm_des_des_share                 0.092             \n",
      "                                (0.058)            \n",
      "pat_tm_des_pat_share            0.214**            \n",
      "                                (0.084)            \n",
      "pat_tm_des_tm_share             0.166***           \n",
      "                                (0.050)            \n",
      "pat_tm_des_des_share            0.205***           \n",
      "                                (0.077)            \n",
      "age                             0.001***           \n",
      "                                (0.0002)           \n",
      "smesme                         -0.408***           \n",
      "                                (0.009)            \n",
      "Constant                        5.038***           \n",
      "                                (0.261)            \n",
      "Country?                          Yes              \n",
      "Sector?                           Yes              \n",
      "N                                88,815            \n",
      "R2                               0.418             \n",
      "Adjusted R2                      0.417             \n",
      "---------------------------------------------------\n",
      "Note:                ***p < .01; **p < .05; *p < .1\n"
     ]
    }
   ],
   "source": [
    "stargazer(reg2, type = \"text\", style=\"jpam\", dep.var.labels = \"$log (Rev / Employee)$\", omit = c(\"country\",\"sector\"), omit.labels = c(\"Country?\",\"Sector?\"), title=\"Table 15 Model 2\", align=FALSE, font.size = \"tiny\", float = FALSE, single.row = FALSE, keep.stat = c(\"n\",\"rsq\",\"adj.rsq\",\"res.dev\",\"aic\", \"bic\"))"
   ]
  },
  {
   "cell_type": "markdown",
   "metadata": {},
   "source": [
    "### Perform Check:\n",
    "Reconstruct Linear Regression Model Coefficients and compare them to the original model which did not include IP Right Type Shares"
   ]
  },
  {
   "cell_type": "code",
   "execution_count": 39,
   "metadata": {},
   "outputs": [],
   "source": [
    "sum1 <- Data %>%\n",
    " filter(pat_tm > 0) %>%\n",
    " summarize(avg_pat_tm_pat_share = mean(pat_tm_pat_share))\n",
    "\n",
    "sum2 <- Data %>%\n",
    " filter(pat_tm > 0) %>%\n",
    " summarize(avg_pat_tm_tm_share = mean(pat_tm_tm_share))\n",
    "\n",
    "sum3 <- Data %>%\n",
    " filter(pat_des > 0) %>%\n",
    " summarize(avg_pat_des_pat_share = mean(pat_des_pat_share))\n",
    "\n",
    "sum4 <- Data %>%\n",
    " filter(pat_des > 0) %>%\n",
    " summarize(avg_pat_des_des_share = mean(pat_des_des_share))\n",
    "\n",
    "sum5 <- Data %>%\n",
    " filter(tm_des > 0) %>%\n",
    " summarize(avg_tm_des_tm_share = mean(tm_des_tm_share))\n",
    "\n",
    "sum6 <- Data %>%\n",
    " filter(tm_des > 0) %>%\n",
    " summarize(avg_tm_des_des_share = mean(tm_des_des_share))\n",
    "\n",
    "sum7 <- Data %>%\n",
    " filter(pat_tm_des > 0) %>%\n",
    " summarize(avg_pat_tm_des_pat_share = mean(pat_tm_des_pat_share))\n",
    "\n",
    "sum8 <- Data %>%\n",
    " filter(pat_tm_des > 0) %>%\n",
    " summarize(avg_pat_tm_des_tm_share = mean(pat_tm_des_tm_share))\n",
    "\n",
    "sum9 <- Data %>%\n",
    " filter(pat_tm_des > 0) %>%\n",
    " summarize(avg_pat_tm_des_des_share = mean(pat_tm_des_des_share))\n",
    "\n",
    "\n"
   ]
  },
  {
   "cell_type": "code",
   "execution_count": 40,
   "metadata": {},
   "outputs": [],
   "source": [
    "avg_pat_tm_coeff <- reg2$coefficient[5] * sum1$avg_pat_tm_pat_share + reg2$coefficient[6] * sum2$avg_pat_tm_tm_share\n",
    "attr(avg_pat_tm_coeff,\"names\") <- NULL\n",
    "\n",
    "\n",
    "avg_pat_des_coeff <- reg2$coefficient[7] * sum3$avg_pat_des_pat_share + reg2$coefficient[8] * sum4$avg_pat_des_des_share\n",
    "attr(avg_pat_des_coeff,\"names\") <- NULL\n",
    "\n",
    "\n",
    "avg_tm_des_coeff <- reg2$coefficient[9] * sum5$avg_tm_des_tm_share + reg2$coefficient[10] * sum6$avg_tm_des_des_share \n",
    "attr(avg_tm_des_coeff,\"names\") <- NULL\n",
    "\n",
    "\n",
    "avg_pat_tm_des_coeff <- reg2$coefficient[11] * sum7$avg_pat_tm_des_pat_share + reg2$coefficient[12] * sum8$avg_pat_tm_des_tm_share +  reg2$coefficient[13] * sum9$avg_pat_tm_des_des_share\n",
    "attr(avg_pat_tm_des_coeff,\"names\") <- NULL\n",
    "\n"
   ]
  },
  {
   "cell_type": "code",
   "execution_count": 41,
   "metadata": {},
   "outputs": [],
   "source": [
    "original_coeff      <- c(reg1$coefficient[5:8])\n",
    "pat_perc            <- c(sum1$avg_pat_tm_pat_share , sum3$avg_pat_des_pat_share, 0                        , sum7$avg_pat_tm_des_pat_share)\n",
    "tm_perc             <- c(sum2$avg_pat_tm_tm_share  , 0                         , sum5$avg_tm_des_tm_share , sum8$avg_pat_tm_des_tm_share )\n",
    "des_perc            <- c(0                         , sum4$avg_pat_des_des_share, sum6$avg_tm_des_des_share, sum9$avg_pat_tm_des_des_share)\n",
    "pat_portion         <- c(reg2$coefficient[5] * sum1$avg_pat_tm_pat_share, reg2$coefficient[7] * sum3$avg_pat_des_pat_share, 0, reg2$coefficient[11] * sum7$avg_pat_tm_des_pat_share)\n",
    "tm_portion          <- c(reg2$coefficient[6] * sum2$avg_pat_tm_tm_share , 0 , reg2$coefficient[9] * sum5$avg_tm_des_tm_share, reg2$coefficient[12] * sum8$avg_pat_tm_des_tm_share)\n",
    "des_portion         <- c(0,reg2$coefficient[8] * sum4$avg_pat_des_des_share, reg2$coefficient[10] * sum6$avg_tm_des_des_share , reg2$coefficient[13] * sum9$avg_pat_tm_des_des_share)\n",
    "reconstructed_coeff <- c(avg_pat_tm_coeff , avg_pat_des_coeff, avg_tm_des_coeff, avg_pat_tm_des_coeff)"
   ]
  },
  {
   "cell_type": "code",
   "execution_count": 42,
   "metadata": {},
   "outputs": [
    {
     "name": "stdout",
     "output_type": "stream",
     "text": [
      "\n",
      "==========================================================================================================\n",
      "           original_coeff reconstructed_coeff pat_portion tm_portion des_portion pat_perc tm_perc des_perc\n",
      "----------------------------------------------------------------------------------------------------------\n",
      "pat_tm          0.22             0.22            0.07        0.15         0        0.37    0.63      0    \n",
      "pat_des         0.13             0.13            0.04         0         0.09       0.53      0      0.45  \n",
      "tm_des          0.22             0.22              0         0.20       0.03        0      0.71     0.28  \n",
      "pat_tm_des      0.19             0.19            0.05        0.08       0.05       0.24    0.50     0.25  \n",
      "----------------------------------------------------------------------------------------------------------\n"
     ]
    }
   ],
   "source": [
    "coeffs <- data.frame(original_coeff,reconstructed_coeff,pat_portion,tm_portion,des_portion,pat_perc,tm_perc,des_perc)\n",
    "stargazer(coeffs, type=\"text\", summary=FALSE, digits=2)"
   ]
  },
  {
   "cell_type": "code",
   "execution_count": 43,
   "metadata": {},
   "outputs": [
    {
     "name": "stdout",
     "output_type": "stream",
     "text": [
      "\n",
      "==============================\n",
      "          marginal_effects_vec\n",
      "------------------------------\n",
      "patent            0.32        \n",
      "trademark         0.65        \n",
      "design            0.28        \n",
      "------------------------------\n"
     ]
    }
   ],
   "source": [
    "marginal_effects_vec <- c(sum(pat_portion) + reg2$coefficient[2], sum(tm_portion) + reg2$coefficient[3], sum(des_portion) + reg2$coefficient[4])\n",
    "names(marginal_effects_vec)[1] = \"patent\"\n",
    "names(marginal_effects_vec)[2] = \"trademark\"\n",
    "names(marginal_effects_vec)[3] = \"design\"\n",
    "marginal_effects <- data.frame(marginal_effects_vec)\n",
    "stargazer(marginal_effects, type=\"text\", summary=FALSE, digits=2)"
   ]
  },
  {
   "cell_type": "markdown",
   "metadata": {},
   "source": [
    "# Perform Analysis on the Moderate Countries Subsample"
   ]
  },
  {
   "cell_type": "code",
   "execution_count": 44,
   "metadata": {},
   "outputs": [],
   "source": [
    "regData_modest <- filter(Data, innovationLevel == 'moderate')"
   ]
  },
  {
   "cell_type": "code",
   "execution_count": 45,
   "metadata": {},
   "outputs": [],
   "source": [
    "reg2 = lm(log_rev_empl ~ patent_only         + tm_only              + des_only \n",
    "                      + pat_tm_pat_share     + pat_tm_tm_share \n",
    "                      + pat_des_pat_share    + pat_des_des_share  \n",
    "                      + tm_des_tm_share      + tm_des_des_share \n",
    "                      + pat_tm_des_pat_share + pat_tm_des_tm_share  + pat_tm_des_des_share  \n",
    "                      + age + country + sector + sme, data = regData_modest)"
   ]
  },
  {
   "cell_type": "code",
   "execution_count": 46,
   "metadata": {},
   "outputs": [
    {
     "name": "stdout",
     "output_type": "stream",
     "text": [
      "\n",
      "---------------------------------------------------\n",
      "                          log (Rev / Employee)     \n",
      "---------------------------------------------------\n",
      "patent_only                     0.139***           \n",
      "                                (0.050)            \n",
      "tm_only                         0.278***           \n",
      "                                (0.012)            \n",
      "des_only                         0.073             \n",
      "                                (0.069)            \n",
      "pat_tm_pat_share                0.173**            \n",
      "                                (0.081)            \n",
      "pat_tm_tm_share                 0.363***           \n",
      "                                (0.054)            \n",
      "pat_des_pat_share                0.069             \n",
      "                                (0.268)            \n",
      "pat_des_des_share                0.380             \n",
      "                                (0.278)            \n",
      "tm_des_tm_share                 0.337***           \n",
      "                                (0.051)            \n",
      "tm_des_des_share                 0.020             \n",
      "                                (0.081)            \n",
      "pat_tm_des_pat_share             0.093             \n",
      "                                (0.149)            \n",
      "pat_tm_des_tm_share             0.318***           \n",
      "                                (0.088)            \n",
      "pat_tm_des_des_share            0.268**            \n",
      "                                (0.110)            \n",
      "age                              0.001             \n",
      "                                (0.0003)           \n",
      "smesme                         -0.410***           \n",
      "                                (0.015)            \n",
      "Constant                        4.860***           \n",
      "                                (0.309)            \n",
      "Country?                          Yes              \n",
      "Sector?                           Yes              \n",
      "N                                42,840            \n",
      "R2                               0.341             \n",
      "Adjusted R2                      0.340             \n",
      "---------------------------------------------------\n",
      "Note:                ***p < .01; **p < .05; *p < .1\n"
     ]
    }
   ],
   "source": [
    "stargazer(reg2, type = \"text\", style=\"jpam\", dep.var.labels = \"$log (Rev / Employee)$\", omit = c(\"country\",\"sector\"), omit.labels = c(\"Country?\",\"Sector?\"), title=\"Table 15 Model 2\", align=FALSE, font.size = \"tiny\", float = FALSE, single.row = FALSE, keep.stat = c(\"n\",\"rsq\",\"adj.rsq\",\"res.dev\",\"aic\", \"bic\"))"
   ]
  },
  {
   "cell_type": "code",
   "execution_count": 47,
   "metadata": {},
   "outputs": [],
   "source": [
    "sum1 <- regData_modest %>%\n",
    " filter(pat_tm > 0) %>%\n",
    " summarize(avg_pat_tm_pat_share = mean(pat_tm_pat_share))\n",
    "\n",
    "sum2 <- regData_modest %>%\n",
    " filter(pat_tm > 0) %>%\n",
    " summarize(avg_pat_tm_tm_share = mean(pat_tm_tm_share))\n",
    "\n",
    "sum3 <- regData_modest %>%\n",
    " filter(pat_des > 0) %>%\n",
    " summarize(avg_pat_des_pat_share = mean(pat_des_pat_share))\n",
    "\n",
    "sum4 <- regData_modest %>%\n",
    " filter(pat_des > 0) %>%\n",
    " summarize(avg_pat_des_des_share = mean(pat_des_des_share))\n",
    "\n",
    "sum5 <- regData_modest %>%\n",
    " filter(tm_des > 0) %>%\n",
    " summarize(avg_tm_des_tm_share = mean(tm_des_tm_share))\n",
    "\n",
    "sum6 <- regData_modest %>%\n",
    " filter(tm_des > 0) %>%\n",
    " summarize(avg_tm_des_des_share = mean(tm_des_des_share))\n",
    "\n",
    "sum7 <- regData_modest %>%\n",
    " filter(pat_tm_des > 0) %>%\n",
    " summarize(avg_pat_tm_des_pat_share = mean(pat_tm_des_pat_share))\n",
    "\n",
    "sum8 <- regData_modest %>%\n",
    " filter(pat_tm_des > 0) %>%\n",
    " summarize(avg_pat_tm_des_tm_share = mean(pat_tm_des_tm_share))\n",
    "\n",
    "sum9 <- regData_modest %>%\n",
    " filter(pat_tm_des > 0) %>%\n",
    " summarize(avg_pat_tm_des_des_share = mean(pat_tm_des_des_share))\n"
   ]
  },
  {
   "cell_type": "code",
   "execution_count": 48,
   "metadata": {},
   "outputs": [],
   "source": [
    "avg_pat_tm_coeff <- reg2$coefficient[5] * sum1$avg_pat_tm_pat_share + reg2$coefficient[6] * sum2$avg_pat_tm_tm_share\n",
    "attr(avg_pat_tm_coeff,\"names\") <- NULL\n",
    "\n",
    "\n",
    "avg_pat_des_coeff <- reg2$coefficient[7] * sum3$avg_pat_des_pat_share + reg2$coefficient[8] * sum4$avg_pat_des_des_share\n",
    "attr(avg_pat_des_coeff,\"names\") <- NULL\n",
    "\n",
    "\n",
    "avg_tm_des_coeff <- reg2$coefficient[9] * sum5$avg_tm_des_tm_share + reg2$coefficient[10] * sum6$avg_tm_des_des_share \n",
    "attr(avg_tm_des_coeff,\"names\") <- NULL\n",
    "\n",
    "\n",
    "avg_pat_tm_des_coeff <- reg2$coefficient[11] * sum7$avg_pat_tm_des_pat_share + reg2$coefficient[12] * sum8$avg_pat_tm_des_tm_share +  reg2$coefficient[13] * sum9$avg_pat_tm_des_des_share\n",
    "attr(avg_pat_tm_des_coeff,\"names\") <- NULL"
   ]
  },
  {
   "cell_type": "code",
   "execution_count": 49,
   "metadata": {},
   "outputs": [],
   "source": [
    "pat_portion         <- c(reg2$coefficient[5] * sum1$avg_pat_tm_pat_share, reg2$coefficient[7] * sum3$avg_pat_des_pat_share, 0, reg2$coefficient[11] * sum7$avg_pat_tm_des_pat_share)\n",
    "tm_portion          <- c(reg2$coefficient[6] * sum2$avg_pat_tm_tm_share , 0 , reg2$coefficient[9] * sum5$avg_tm_des_tm_share, reg2$coefficient[12] * sum8$avg_pat_tm_des_tm_share)\n",
    "des_portion         <- c(0,reg2$coefficient[8] * sum4$avg_pat_des_des_share, reg2$coefficient[10] * sum6$avg_tm_des_des_share , reg2$coefficient[13] * sum9$avg_pat_tm_des_des_share)"
   ]
  },
  {
   "cell_type": "code",
   "execution_count": 50,
   "metadata": {},
   "outputs": [
    {
     "name": "stdout",
     "output_type": "stream",
     "text": [
      "\n",
      "==============================\n",
      "          marginal_effects_vec\n",
      "------------------------------\n",
      "patent            0.26        \n",
      "trademark         0.88        \n",
      "design            0.34        \n",
      "------------------------------\n"
     ]
    }
   ],
   "source": [
    "marginal_effects_vec <- c(sum(pat_portion) + reg2$coefficient[2], sum(tm_portion) + reg2$coefficient[3], sum(des_portion) + reg2$coefficient[4])\n",
    "names(marginal_effects_vec)[1] = \"patent\"\n",
    "names(marginal_effects_vec)[2] = \"trademark\"\n",
    "names(marginal_effects_vec)[3] = \"design\"\n",
    "marginal_effects <- data.frame(marginal_effects_vec)\n",
    "stargazer(marginal_effects, type=\"text\", summary=FALSE, digits=2)"
   ]
  },
  {
   "cell_type": "markdown",
   "metadata": {},
   "source": [
    "# Perform Analysis on the Strong and Leading Countries Subsample"
   ]
  },
  {
   "cell_type": "code",
   "execution_count": 51,
   "metadata": {},
   "outputs": [],
   "source": [
    "regData_leader <- filter(Data, innovationLevel == 'strong' |  innovationLevel == 'leader')"
   ]
  },
  {
   "cell_type": "code",
   "execution_count": 52,
   "metadata": {},
   "outputs": [],
   "source": [
    "reg2 = lm(log_rev_empl ~ patent_only         + tm_only              + des_only \n",
    "                      + pat_tm_pat_share     + pat_tm_tm_share \n",
    "                      + pat_des_pat_share    + pat_des_des_share  \n",
    "                      + tm_des_tm_share      + tm_des_des_share \n",
    "                      + pat_tm_des_pat_share + pat_tm_des_tm_share  + pat_tm_des_des_share  \n",
    "                      + age + country + sector + sme, data = regData_leader)"
   ]
  },
  {
   "cell_type": "code",
   "execution_count": 53,
   "metadata": {},
   "outputs": [
    {
     "name": "stdout",
     "output_type": "stream",
     "text": [
      "\n",
      "---------------------------------------------------\n",
      "                          log (Rev / Employee)     \n",
      "---------------------------------------------------\n",
      "patent_only                     0.176***           \n",
      "                                (0.042)            \n",
      "tm_only                         0.160***           \n",
      "                                (0.012)            \n",
      "des_only                         0.136             \n",
      "                                (0.085)            \n",
      "pat_tm_pat_share                0.211***           \n",
      "                                (0.065)            \n",
      "pat_tm_tm_share                 0.145***           \n",
      "                                (0.044)            \n",
      "pat_des_pat_share                0.062             \n",
      "                                (0.192)            \n",
      "pat_des_des_share                0.042             \n",
      "                                (0.219)            \n",
      "tm_des_tm_share                 0.196***           \n",
      "                                (0.042)            \n",
      "tm_des_des_share                 0.164*            \n",
      "                                (0.087)            \n",
      "pat_tm_des_pat_share            0.285***           \n",
      "                                (0.102)            \n",
      "pat_tm_des_tm_share              0.057             \n",
      "                                (0.061)            \n",
      "pat_tm_des_des_share             0.147             \n",
      "                                (0.112)            \n",
      "age                             0.002***           \n",
      "                                (0.0002)           \n",
      "smesme                         -0.408***           \n",
      "                                (0.012)            \n",
      "Constant                        5.094***           \n",
      "                                (0.257)            \n",
      "Country?                          Yes              \n",
      "Sector?                           Yes              \n",
      "N                                41,545            \n",
      "R2                               0.359             \n",
      "Adjusted R2                      0.358             \n",
      "---------------------------------------------------\n",
      "Note:                ***p < .01; **p < .05; *p < .1\n"
     ]
    }
   ],
   "source": [
    "stargazer(reg2, type = \"text\", style=\"jpam\", dep.var.labels = \"$log (Rev / Employee)$\", omit = c(\"country\",\"sector\"), omit.labels = c(\"Country?\",\"Sector?\"), title=\"Table 15 Model 2\", align=FALSE, font.size = \"tiny\", float = FALSE, single.row = FALSE, keep.stat = c(\"n\",\"rsq\",\"adj.rsq\",\"res.dev\",\"aic\", \"bic\"))"
   ]
  },
  {
   "cell_type": "code",
   "execution_count": 54,
   "metadata": {},
   "outputs": [],
   "source": [
    "sum1 <- regData_leader %>%\n",
    " filter(pat_tm > 0) %>%\n",
    " summarize(avg_pat_tm_pat_share = mean(pat_tm_pat_share))\n",
    "\n",
    "sum2 <- regData_leader %>%\n",
    " filter(pat_tm > 0) %>%\n",
    " summarize(avg_pat_tm_tm_share = mean(pat_tm_tm_share))\n",
    "\n",
    "sum3 <- regData_leader %>%\n",
    " filter(pat_des > 0) %>%\n",
    " summarize(avg_pat_des_pat_share = mean(pat_des_pat_share))\n",
    "\n",
    "sum4 <- regData_leader %>%\n",
    " filter(pat_des > 0) %>%\n",
    " summarize(avg_pat_des_des_share = mean(pat_des_des_share))\n",
    "\n",
    "sum5 <- regData_leader %>%\n",
    " filter(tm_des > 0) %>%\n",
    " summarize(avg_tm_des_tm_share = mean(tm_des_tm_share))\n",
    "\n",
    "sum6 <- regData_leader %>%\n",
    " filter(tm_des > 0) %>%\n",
    " summarize(avg_tm_des_des_share = mean(tm_des_des_share))\n",
    "\n",
    "sum7 <- regData_leader %>%\n",
    " filter(pat_tm_des > 0) %>%\n",
    " summarize(avg_pat_tm_des_pat_share = mean(pat_tm_des_pat_share))\n",
    "\n",
    "sum8 <- regData_leader %>%\n",
    " filter(pat_tm_des > 0) %>%\n",
    " summarize(avg_pat_tm_des_tm_share = mean(pat_tm_des_tm_share))\n",
    "\n",
    "sum9 <- regData_leader %>%\n",
    " filter(pat_tm_des > 0) %>%\n",
    " summarize(avg_pat_tm_des_des_share = mean(pat_tm_des_des_share))"
   ]
  },
  {
   "cell_type": "code",
   "execution_count": 55,
   "metadata": {},
   "outputs": [],
   "source": [
    "avg_pat_tm_coeff <- reg2$coefficient[5] * sum1$avg_pat_tm_pat_share + reg2$coefficient[6] * sum2$avg_pat_tm_tm_share\n",
    "attr(avg_pat_tm_coeff,\"names\") <- NULL\n",
    "\n",
    "\n",
    "avg_pat_des_coeff <- reg2$coefficient[7] * sum3$avg_pat_des_pat_share + reg2$coefficient[8] * sum4$avg_pat_des_des_share\n",
    "attr(avg_pat_des_coeff,\"names\") <- NULL\n",
    "\n",
    "\n",
    "avg_tm_des_coeff <- reg2$coefficient[9] * sum5$avg_tm_des_tm_share + reg2$coefficient[10] * sum6$avg_tm_des_des_share \n",
    "attr(avg_tm_des_coeff,\"names\") <- NULL\n",
    "\n",
    "\n",
    "avg_pat_tm_des_coeff <- reg2$coefficient[11] * sum7$avg_pat_tm_des_pat_share + reg2$coefficient[12] * sum8$avg_pat_tm_des_tm_share +  reg2$coefficient[13] * sum9$avg_pat_tm_des_des_share\n",
    "attr(avg_pat_tm_des_coeff,\"names\") <- NULL"
   ]
  },
  {
   "cell_type": "code",
   "execution_count": 56,
   "metadata": {},
   "outputs": [],
   "source": [
    "pat_portion         <- c(reg2$coefficient[5] * sum1$avg_pat_tm_pat_share, reg2$coefficient[7] * sum3$avg_pat_des_pat_share, 0, reg2$coefficient[11] * sum7$avg_pat_tm_des_pat_share)\n",
    "tm_portion          <- c(reg2$coefficient[6] * sum2$avg_pat_tm_tm_share , 0 , reg2$coefficient[9] * sum5$avg_tm_des_tm_share, reg2$coefficient[12] * sum8$avg_pat_tm_des_tm_share)\n",
    "des_portion         <- c(0,reg2$coefficient[8] * sum4$avg_pat_des_des_share, reg2$coefficient[10] * sum6$avg_tm_des_des_share , reg2$coefficient[13] * sum9$avg_pat_tm_des_des_share)"
   ]
  },
  {
   "cell_type": "code",
   "execution_count": 57,
   "metadata": {},
   "outputs": [
    {
     "name": "stdout",
     "output_type": "stream",
     "text": [
      "\n",
      "==============================\n",
      "          marginal_effects_vec\n",
      "------------------------------\n",
      "patent            0.36        \n",
      "trademark         0.43        \n",
      "design            0.23        \n",
      "------------------------------\n"
     ]
    }
   ],
   "source": [
    "marginal_effects_vec <- c(sum(pat_portion) + reg2$coefficient[2], sum(tm_portion) + reg2$coefficient[3], sum(des_portion) + reg2$coefficient[4])\n",
    "names(marginal_effects_vec)[1] = \"patent\"\n",
    "names(marginal_effects_vec)[2] = \"trademark\"\n",
    "names(marginal_effects_vec)[3] = \"design\"\n",
    "marginal_effects <- data.frame(marginal_effects_vec)\n",
    "stargazer(marginal_effects, type=\"text\", summary=FALSE, digits=2)"
   ]
  },
  {
   "cell_type": "code",
   "execution_count": null,
   "metadata": {},
   "outputs": [],
   "source": []
  },
  {
   "cell_type": "code",
   "execution_count": null,
   "metadata": {},
   "outputs": [],
   "source": []
  }
 ],
 "metadata": {
  "kernelspec": {
   "display_name": "R",
   "language": "R",
   "name": "ir"
  },
  "language_info": {
   "codemirror_mode": "r",
   "file_extension": ".r",
   "mimetype": "text/x-r-source",
   "name": "R",
   "pygments_lexer": "r",
   "version": "3.6.1"
  }
 },
 "nbformat": 4,
 "nbformat_minor": 4
}
