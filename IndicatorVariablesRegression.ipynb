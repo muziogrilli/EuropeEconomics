{
 "cells": [
  {
   "cell_type": "markdown",
   "metadata": {},
   "source": [
    "# IP Rights Strategies "
   ]
  },
  {
   "cell_type": "markdown",
   "metadata": {},
   "source": [
    "## Retrieve Dataset"
   ]
  },
  {
   "cell_type": "code",
   "execution_count": 78,
   "metadata": {},
   "outputs": [],
   "source": [
    "setwd(\"C:/Users/MG53060/Documents/GitHub/EuropeEconomics\")\n",
    "Data <- readRDS(file = \"./CleanData.rds\")\n",
    "Data$ip_owner <- as.factor(Data$ip_owner)\n",
    "\n",
    "# load Libraries\n",
    "library(VennDiagram)\n",
    "library(stargazer)\n",
    "library(dplyr)"
   ]
  },
  {
   "cell_type": "markdown",
   "metadata": {},
   "source": [
    "## Overview of the IP Right Usage for the firms in the Data Sample"
   ]
  },
  {
   "cell_type": "markdown",
   "metadata": {},
   "source": [
    "### IP Rights users VS Non Users"
   ]
  },
  {
   "cell_type": "code",
   "execution_count": 79,
   "metadata": {},
   "outputs": [
    {
     "data": {
      "image/png": "[encoded data removed]",
      "text/plain": [
       "plot without title"
      ]
     },
     "metadata": {},
     "output_type": "display_data"
    }
   ],
   "source": [
    "venn_data <- Data\n",
    "\n",
    "IP_Right_usage <- draw.pairwise.venn(\n",
    "    area1      = nrow(subset(venn_data, ip_owner == 1)),\n",
    "    area2      = nrow(subset(venn_data, ip_owner == 0)),\n",
    "    cross.area = 0,\n",
    "    category   = c(\"IP Users\", \"Non IP Users\"),   \n",
    "    \n",
    "    # Circles\n",
    "    lwd = 2,\n",
    "    fill = c(\"blue\", \"red\"),\n",
    "    alpha=c(0.2,0.2),\n",
    "    \n",
    "    # Numbers\n",
    "    cex = .8,\n",
    "    fontface = \"bold\",\n",
    "    fontfamily = \"sans\",\n",
    "    \n",
    "    # Set Names\n",
    "    cat.cex = 0.8,\n",
    "    cat.fontface = \"bold\",\n",
    "    cat.default.pos = \"outer\",\n",
    "    cat.dist = c(0.045, 0.045),\n",
    "    cat.fontfamily = \"sans\",\n",
    "    #rotation = 1\n",
    ")"
   ]
  },
  {
   "cell_type": "markdown",
   "metadata": {},
   "source": [
    "### Distribution of the type of IP Right Combinations within the IP Right Users"
   ]
  },
  {
   "cell_type": "code",
   "execution_count": 80,
   "metadata": {},
   "outputs": [
    {
     "data": {
      "image/png": "[encoded data removed]",
      "text/plain": [
       "plot without title"
      ]
     },
     "metadata": {},
     "output_type": "display_data"
    }
   ],
   "source": [
    "grid.newpage()\n",
    "\n",
    "# Modify the VennDiagram Function using Trace for the present R Kernel session\n",
    "# trace(draw.pairwise.venn, edit=TRUE)\n",
    "# line To Be replaced: cell.labels <- areas\n",
    "# Replacement Line: cell.labels <- paste0(areas,\" : \", round( 100*areas/sum(areas), 1), \"%\")\n",
    "\n",
    "IP_Right_Type_usage <- draw.triple.venn(\n",
    "    area1 = nrow(subset(venn_data, patent_owner == 1)), \n",
    "    area2 = nrow(subset(venn_data, tm_owner == 1)), \n",
    "    area3 = nrow(subset(venn_data, des_owner == 1)), \n",
    "    n12 = nrow(subset(venn_data, patent_owner == 1 & tm_owner == 1)), \n",
    "    n23 = nrow(subset(venn_data, tm_owner == 1 & des_owner == 1)), \n",
    "    n13 = nrow(subset(venn_data, patent_owner == 1 & des_owner == 1)), \n",
    "    n123 = nrow(subset(venn_data, patent_owner == 1 & tm_owner == 1 & des_owner == 1)), \n",
    "    category = c(\"Patent Users\", \"TM Users\", \"Design Users\"),     \n",
    "\n",
    "    # Circles\n",
    "    lwd = 2,\n",
    "    fill = c(\"blue\", \"red\", \"green\"),\n",
    "    alpha=c(0.2,0.2,0.2),\n",
    "    \n",
    "    # Numbers\n",
    "    cex = .8,\n",
    "    fontface = \"bold\",\n",
    "    fontfamily = \"sans\",\n",
    "    \n",
    "    # Set Names\n",
    "    cat.cex = 0.8,\n",
    "    cat.fontface = \"bold\",\n",
    "    cat.default.pos = \"outer\",\n",
    "    cat.dist = c(0.045, 0.035, 0.025),\n",
    "    cat.fontfamily = \"sans\",\n",
    "    rotation = 1,\n",
    "    \n",
    "    # Image Output\n",
    "    filename = NULL,\n",
    "    euler.d = TRUE,\n",
    "    scaled = TRUE\n",
    ")"
   ]
  },
  {
   "cell_type": "markdown",
   "metadata": {},
   "source": [
    "## Analysis Using Exclusive Indicators"
   ]
  },
  {
   "cell_type": "markdown",
   "metadata": {},
   "source": [
    "#### Regression Model based on exclusive indicators\n",
    "\n",
    "__Log (Rev/Empl) = &Beta;<sub>0</sub> + &Beta;<sub>1</sub> PAT<sub>only</sub> + &Beta;<sub>2</sub> TM<sub>only</sub> + &Beta;<sub>3</sub> DES<sub>only</sub> + &Beta;<sub>4</sub> (PAT & TM)<sub>only</sub> + &Beta;<sub>5</sub> (PAT & DES)<sub>only</sub> + &Beta;<sub>6</sub> (TM & DES)<sub>only</sub> + &Beta;<sub>7</sub> (PAT & TM & DES)<sub>only</sub> + e__\n",
    "\n",
    "$\n",
    "\\begin{equation*}\n",
    " E(Log(Rev/Empl)) =\n",
    "    \\begin{cases}\n",
    "        \\beta_0 & PAT_{Only} = TM_{Only} = DES_{Only} = (PAT \\& TM)_{Only} =& (PAT \\& DES)_{Only} =& (TM \\& DES)_{Only} = (PAT \\& TM \\& DES)_{Only} = 0\\\\\n",
    "        \\beta_0 + \\beta_1 & PAT_{Only} = 1 & &\\text{, other dummies ZERO} \\\\\n",
    "        \\beta_0 + \\beta_2 & TM_{Only} = 1 & &\\text{, other dummies ZERO} \\\\\n",
    "        \\beta_0 + \\beta_3 & DES_{Only} = 1 & &\\text{, other dummies ZERO} \\\\\n",
    "        \\beta_0 + \\beta_4 & (PAT \\& TM)_{Only} = 1 & &\\text{, other dummies ZERO} \\\\\n",
    "        \\beta_0 + \\beta_5 & (PAT \\& DES)_{Only} = 1 & &\\text{, other dummies ZERO} \\\\\n",
    "        \\beta_0 + \\beta_6 & (TM \\& DES)_{Only} = 1 & &\\text{, other dummies ZERO} \\\\\n",
    "        \\beta_0 + \\beta_7 & (PAT \\& TM \\& DES)_{Only} = 1 & &\\text{, other dummies ZERO}\n",
    "    \\end{cases}\n",
    "\\end{equation*}\n",
    "$\n",
    "\n",
    "__&Beta;<sub>0</sub>:__ provides the mean value for the base category which is the mean value for the ***Non Ip Owners***  \n",
    "__&Beta;<sub>1</sub>:__ provides the difference in terms of mean value between firms which own ***Only Patents*** and ***Non Ip Owners*** firms  \n",
    "__&Beta;<sub>2</sub>:__ provides the difference in terms of mean value between firms which own ***Only Trademarks*** and ***Non Ip Owners*** firms  \n",
    "__&Beta;<sub>3</sub>:__ provides the difference in terms of mean value between firms which own ***Only Design*** and ***Non Ip Owners*** firms  \n",
    "__&Beta;<sub>4</sub>:__ provides the difference in terms of mean value between firms which own ***Only Bundles of Patents and Trademarks*** and ***Non Ip Owners*** firms  \n",
    "__&Beta;<sub>5</sub>:__ provides the difference in terms of mean value between firms which own ***Only Bundles of Patents and Designs*** and ***Non Ip Owners*** firms  \n",
    "__&Beta;<sub>6</sub>:__ provides the difference in terms of mean value between firms which own ***Only Bundles of Trademarks and Designs*** and ***Non Ip Owners*** firms  \n",
    "__&Beta;<sub>6</sub>:__ provides the difference in terms of mean value between firms which own ***Only Bundles of Patents, Trademarks and Designs*** and ***Non Ip Owners*** firms"
   ]
  },
  {
   "cell_type": "code",
   "execution_count": 81,
   "metadata": {},
   "outputs": [
    {
     "name": "stdout",
     "output_type": "stream",
     "text": [
      "\n",
      "Exclusive Indicators Analysis\n",
      "=======================================================\n",
      "                            Dependent variable:        \n",
      "                     ----------------------------------\n",
      "                            log (Rev / Employee)       \n",
      "                            (1)              (2)       \n",
      "-------------------------------------------------------\n",
      "Patent Only          0.163*** (0.032)  0.528*** (0.040)\n",
      "TM Only              0.228*** (0.008)  0.383*** (0.010)\n",
      "Design Only           0.115** (0.053)  0.249*** (0.068)\n",
      "Patent - TM          0.233*** (0.022)  0.684*** (0.027)\n",
      "Patent - Design        0.135 (0.089)   0.484*** (0.114)\n",
      "TM - Design          0.232*** (0.023)  0.571*** (0.029)\n",
      "Patent - TM - Design 0.202*** (0.026)  0.780*** (0.032)\n",
      "SME                  -0.417*** (0.009)                 \n",
      "Constant             5.053*** (0.261)  4.621*** (0.004)\n",
      "-------------------------------------------------------\n",
      "Country?                    Yes               No       \n",
      "Sector?                     Yes               No       \n",
      "-------------------------------------------------------\n",
      "Observations              88,815            88,815     \n",
      "R2                         0.417            0.031      \n",
      "Adjusted R2                0.417            0.030      \n",
      "=======================================================\n",
      "Note:                       *p<0.1; **p<0.05; ***p<0.01\n"
     ]
    }
   ],
   "source": [
    "reg1_1 = lm(log_rev_empl ~ patent_only + tm_only + des_only + pat_tm + pat_des + tm_des + pat_tm_des, data = Data)\n",
    "reg1_2 = lm(log_rev_empl ~ patent_only + tm_only + des_only + pat_tm + pat_des + tm_des + pat_tm_des + sector + country + sme , data = Data)\n",
    "reg_cov_labels <- c(\"Patent Only\", \"TM Only\", \"Design Only\", \"Patent - TM\", \"Patent - Design\", \"TM - Design\", \"Patent - TM - Design\", \"SME\")\n",
    "stargazer(reg1_2, reg1_1, type = \"text\", style=\"all2\", dep.var.labels = \"$log (Rev / Employee)$\", covariate.labels=reg_cov_labels, omit = c(\"country\",\"sector\"), omit.labels = c(\"Country?\",\"Sector?\"), title=\"Exclusive Indicators Analysis\", align=FALSE, single.row = TRUE, keep.stat = c(\"n\",\"rsq\",\"adj.rsq\",\"res.dev\",\"aic\", \"bic\"))"
   ]
  },
  {
   "cell_type": "markdown",
   "metadata": {},
   "source": [
    "## Analysis Using Non Exclusive Indicators"
   ]
  },
  {
   "cell_type": "markdown",
   "metadata": {},
   "source": [
    "#### Regression Model based on non exclusive indicators using cross factors\n",
    "\n",
    "__Log (Rev/Empl) = &Beta;<sub>0</sub> + &Beta;<sub>1</sub> PAT<sub>owner</sub> + &Beta;<sub>2</sub> TM<sub>owner</sub> + &Beta;<sub>3</sub> DES<sub>owner</sub> + &Beta;<sub>4</sub> PAT<sub>Owner</sub> * TM<sub>owner</sub> + &Beta;<sub>5</sub> PAT<sub>Owner</sub> * DES<sub>owner</sub> + &Beta;<sub>6</sub> TM<sub>Owner</sub> * DES<sub>owner</sub> + &Beta;<sub>7</sub> PAT<sub>Owner</sub> * TM<sub>Owner</sub> * DES<sub>owner</sub> + e__\n",
    "\n",
    "$\n",
    "\\begin{equation*}\n",
    " E(Log(Rev/Empl)) =\n",
    "    \\begin{cases}\n",
    "        \\beta_0  & \\text{ - all dummies are ZERO}\\\\\n",
    "        \\beta_0 + \\beta_1  & PAT_{Owner} = 1  \\text{ , other dummies ZERO - firm owns only Patents}  \\\\\n",
    "        \\beta_0 + \\beta_2  & TM_{Owner} = 1  \\text{ , other dummies ZERO - firm owns only Trademarks}  \\\\\n",
    "        \\beta_0 + \\beta_3  & DES_{Owner} = 1  \\text{ , other dummies ZERO - firm owns only Design}  \\\\\n",
    "        \\beta_0 + \\beta_1 + \\beta_2 + \\beta_4 &  (PAT)_{Owner} = 1, \\, (TM)_{Owner} = 1, \\, (PAT \\& TM)_{Owner} = 1  \\text{ , other dummies ZERO - firm owns Patents and TradeMarks} \\\\\n",
    "        \\beta_0 + \\beta_1 + \\beta_3 + \\beta_5 &  (PAT)_{Owner} = 1, \\, (DES)_{Owner} = 1, \\, (PAT \\& DES)_{Owner} = 1  \\text{ , other dummies ZERO - firm owns Patents and Designs} \\\\\n",
    "        \\beta_0 + \\beta_2 + \\beta_3 + \\beta_6 & (TM)_{Owner} = 1, \\, (DES)_{Owner} = 1, \\, (TM \\& DES)_{Owner} = 1  \\text{ , other dummies ZERO - firm owns Patents and Designs} \\\\\n",
    "        \\beta_0 + \\beta_1 + \\beta_2 + \\beta_3 + \\beta_4 + \\beta_5 + \\beta_6 + \\beta_7 & \\text{ - all dummies are ONE - firm owns all type of IP Rights}\n",
    "    \\end{cases}\n",
    "\\end{equation*}\n",
    "$\n",
    "\n",
    "__&Beta;<sub>0</sub>:__ provides the mean value for the base category which is composed by the firms not owning any kind of IP right defined as ***Non Ip Owners***   \n",
    "__&Beta;<sub>1</sub>:__ provides the difference in terms of mean value between firms which own ***Only Patents*** and ***Non Ip Owners*** firms  \n",
    "__&Beta;<sub>2</sub>:__ provides the difference in terms of mean value between firms which own ***Only Trademarks*** and ***Non Ip Owners*** firms  \n",
    "__&Beta;<sub>3</sub>:__ provides the difference in terms of mean value between firms which own ***Only Design*** and ***Non Ip Owners*** firms  \n",
    "__&Beta;<sub>1</sub> + &Beta;<sub>2</sub> + &Beta;<sub>4</sub>:__ provides the difference in terms of mean value between firms which own ***Only Bundles of Patents and Trademarks*** and ***Non Ip Owners*** firms  \n",
    "__&Beta;<sub>1</sub> + &Beta;<sub>3</sub> + &Beta;<sub>5</sub>:__ provides the difference in terms of mean value between firms which own ***Only Bundles of Patents and Designs*** and ***Non Ip Owners*** firms  \n",
    "__&Beta;<sub>2</sub> + &Beta;<sub>3</sub> + &Beta;<sub>6</sub>:__ provides the difference in terms of mean value between firms which own ***Only Bundles of Trademarks and Designs*** and ***Non Ip Owners*** firms  \n",
    "__&Beta;<sub>1</sub> + &Beta;<sub>2</sub> + &Beta;<sub>3</sub> + &Beta;<sub>4</sub> + &Beta;<sub>5</sub> + &Beta;<sub>6</sub> + &Beta;<sub>7</sub>:__ provides the difference in terms of mean value between firms which own ***Only Bundles of Patents, Trademarks and Designs*** and ***Non Ip Owners*** firms"
   ]
  },
  {
   "cell_type": "code",
   "execution_count": 82,
   "metadata": {},
   "outputs": [
    {
     "name": "stdout",
     "output_type": "stream",
     "text": [
      "\n",
      "Inclusive Indicators Analysis\n",
      "========================================================\n",
      "                             Dependent variable:        \n",
      "                     -----------------------------------\n",
      "                            log (Rev / Employee)        \n",
      "                            (1)               (2)       \n",
      "--------------------------------------------------------\n",
      "Patent Owner         0.163*** (0.032)  0.528*** (0.040) \n",
      "TM Owner             0.228*** (0.008)  0.383*** (0.010) \n",
      "Design Owner          0.115** (0.053)  0.249*** (0.068) \n",
      "SME                  -0.417*** (0.009)                  \n",
      "Patent - TM          -0.159*** (0.038) -0.227*** (0.049)\n",
      "Patent - Design       -0.144 (0.107)   -0.292** (0.138) \n",
      "TM - Design           -0.111* (0.058)   -0.061 (0.074)  \n",
      "Patent - TM - Design   0.109 (0.115)     0.201 (0.148)  \n",
      "Constant             5.053*** (0.261)  4.621*** (0.004) \n",
      "--------------------------------------------------------\n",
      "Country?                    Yes               No        \n",
      "Sector?                     Yes               No        \n",
      "--------------------------------------------------------\n",
      "Observations              88,815            88,815      \n",
      "R2                         0.417             0.031      \n",
      "Adjusted R2                0.417             0.030      \n",
      "========================================================\n",
      "Note:                        *p<0.1; **p<0.05; ***p<0.01\n"
     ]
    }
   ],
   "source": [
    "reg2_1 = lm(log_rev_empl ~ patent_owner + tm_owner + des_owner + patent_owner:tm_owner + patent_owner:des_owner + tm_owner:des_owner + patent_owner:tm_owner:des_owner, data = Data)\n",
    "reg2_2 = lm(log_rev_empl ~ patent_owner + tm_owner + des_owner + patent_owner:tm_owner + patent_owner:des_owner + tm_owner:des_owner + patent_owner:tm_owner:des_owner + sme + sector + country, data = Data)\n",
    "reg_cov_labels <- c(\"Patent Owner\", \"TM Owner\", \"Design Owner\", \"SME\", \"Patent - TM\", \"Patent - Design\", \"TM - Design\", \"Patent - TM - Design\")\n",
    "stargazer(reg2_2, reg2_1, type = \"text\", style=\"all2\", dep.var.labels = \"$log (Rev / Employee)$\", covariate.labels=reg_cov_labels,  omit = c(\"country\",\"sector\"), omit.labels = c(\"Country?\",\"Sector?\"), title=\"Inclusive Indicators Analysis\", align=TRUE, single.row = TRUE, keep.stat = c(\"n\",\"rsq\",\"adj.rsq\",\"res.dev\",\"aic\", \"bic\"))"
   ]
  },
  {
   "cell_type": "code",
   "execution_count": 83,
   "metadata": {},
   "outputs": [
    {
     "name": "stdout",
     "output_type": "stream",
     "text": [
      "\n",
      "================================================\n",
      "            original_coeffs reconstructed_coeffs\n",
      "------------------------------------------------\n",
      "patent_only     0.1633             0.1633       \n",
      "tm_only         0.2281             0.2281       \n",
      "des_only        0.1152             0.1152       \n",
      "pat_tm          0.2326             0.2326       \n",
      "pat_des         0.1345             0.1345       \n",
      "tm_des          0.2322             0.2322       \n",
      "pat_tm_des      0.2015             0.2015       \n",
      "------------------------------------------------\n"
     ]
    }
   ],
   "source": [
    "names_vec <- c(\"patent only\", \"trademark only\", \"design only\", \"patent & trademark\", \"patent & design\", \"trademark & design\", \"patent & trademark & design\")\n",
    "original_coeffs <- c(reg1_2$coefficient[2:8])\n",
    "#names(original_coeff) <- names_vec\n",
    "reconstructed_coeffs <- c( reg2_2$coefficient[2] \n",
    "                        , reg2_2$coefficient[3]\n",
    "                        , reg2_2$coefficient[4]\n",
    "                        , reg2_2$coefficient[2] + reg2_2$coefficient[3] + reg2_2$coefficient[115]\n",
    "                        , reg2_2$coefficient[2] + reg2_2$coefficient[4] + reg2_2$coefficient[116]\n",
    "                        , reg2_2$coefficient[3] + reg2_2$coefficient[4] + reg2_2$coefficient[117] \n",
    "                        , reg2_2$coefficient[2] + reg2_2$coefficient[3] + reg2_2$coefficient[4] + reg2_2$coefficient[115] + reg2_2$coefficient[116] + reg2_2$coefficient[117] + reg2_2$coefficient[118]  \n",
    "                        )\n",
    "#names(reconstructed_coeff) <- names_vec\n",
    "table_comparison <- data.frame(original_coeffs, reconstructed_coeffs)\n",
    "stargazer(table_comparison, type=\"text\", summary=FALSE, digits=4)"
   ]
  },
  {
   "cell_type": "markdown",
   "metadata": {},
   "source": [
    "## Further Models "
   ]
  },
  {
   "cell_type": "markdown",
   "metadata": {},
   "source": [
    "### Focus on Patent Right Ownership"
   ]
  },
  {
   "cell_type": "code",
   "execution_count": 84,
   "metadata": {},
   "outputs": [
    {
     "data": {
      "image/png": "[encoded data removed]",
      "text/plain": [
       "plot without title"
      ]
     },
     "metadata": {},
     "output_type": "display_data"
    }
   ],
   "source": [
    "grid.newpage()\n",
    "\n",
    "# Modify the VennDiagram Function using Trace for the present R Kernel session\n",
    "# trace(draw.pairwise.venn, edit=TRUE)\n",
    "# line To Be replaced: cell.labels <- areas\n",
    "# Replacement Line: cell.labels <- paste0(areas,\" : \", round( 100*areas/sum(areas), 1), \"%\")\n",
    "\n",
    "IP_Right_Type_usage <- draw.triple.venn(\n",
    "    area1 = nrow(subset(venn_data, patent_owner == 1)), \n",
    "    area2 = nrow(subset(venn_data, tm_owner == 1)), \n",
    "    area3 = nrow(subset(venn_data, des_owner == 1)), \n",
    "    n12 = nrow(subset(venn_data, patent_owner == 1 & tm_owner == 1)), \n",
    "    n23 = nrow(subset(venn_data, tm_owner == 1 & des_owner == 1)), \n",
    "    n13 = nrow(subset(venn_data, patent_owner == 1 & des_owner == 1)), \n",
    "    n123 = nrow(subset(venn_data, patent_owner == 1 & tm_owner == 1 & des_owner == 1)), \n",
    "    category = c(\"Patent Users\", \"TM Users\", \"Design Users\"),     \n",
    "\n",
    "    # Circles\n",
    "    lwd = 2,\n",
    "    fill = c(\"red\", \"white\", \"white\"),\n",
    "    alpha=c(0.9,0.,0.),\n",
    "    \n",
    "    # Numbers\n",
    "    cex = .8,\n",
    "    fontface = \"bold\",\n",
    "    fontfamily = \"sans\",\n",
    "    \n",
    "    # Set Names\n",
    "    cat.cex = 0.8,\n",
    "    cat.fontface = \"bold\",\n",
    "    cat.default.pos = \"outer\",\n",
    "    cat.dist = c(0.045, 0.035, 0.025),\n",
    "    cat.fontfamily = \"sans\",\n",
    "    rotation = 1,\n",
    "    \n",
    "    # Image Output\n",
    "    filename = NULL,\n",
    "    euler.d = TRUE,\n",
    "    scaled = TRUE\n",
    ")"
   ]
  },
  {
   "cell_type": "markdown",
   "metadata": {},
   "source": [
    "#### Regression Model based on non exclusive indicators\n",
    "\n",
    "__Log (Rev/Empl) = &Beta;<sub>0</sub> + &Beta;<sub>1</sub> IP<sub>owner</sub> + &Beta;<sub>2</sub> PAT<sub>owner</sub> + e__\n",
    "\n",
    "$\n",
    "\\begin{equation*}\n",
    " E(Log(Rev/Empl)) =\n",
    "    \\begin{cases}\n",
    "        \\beta_0 & IP_{Owner} = 0,  PAT_{Owner} = 0\\\\\n",
    "        \\beta_0 + \\beta_1 & IP_{Owner} = 1, PAT_{Owner} = 0\\\\\n",
    "        \\beta_0 + \\beta_1 + \\beta_2 & IP_{Owner} = 1, \\, PAT_{Owner} = 1 \n",
    "    \\end{cases}\n",
    "\\end{equation*}\n",
    "$\n",
    "\n",
    "__&Beta;<sub>0</sub>:__ provides the mean value for the base category which is the mean value for the ***Non Ip Owners***  \n",
    "__&Beta;<sub>1</sub>:__ provides the difference in terms of mean value between firms which own ***Any Kind of IP Right except for Patents*** and ***Non Ip Owners*** firms  \n",
    "__&Beta;<sub>2</sub>:__ provides the difference in terms of mean value between firms which own ***at least one Patent*** and firms owning ***Any Kind of IP Right except for Patents***   "
   ]
  },
  {
   "cell_type": "code",
   "execution_count": 85,
   "metadata": {},
   "outputs": [
    {
     "name": "stdout",
     "output_type": "stream",
     "text": [
      "\n",
      "Inclusive Indicators Analysis\n",
      "===============================================\n",
      "                    Dependent variable:        \n",
      "             ----------------------------------\n",
      "                    log (Rev / Employee)       \n",
      "                    (1)              (2)       \n",
      "-----------------------------------------------\n",
      "B1           0.226*** (0.008)  0.397*** (0.010)\n",
      "B2            -0.020 (0.016)   0.280*** (0.020)\n",
      "SME          -0.418*** (0.009)                 \n",
      "Constant     5.055*** (0.261)  4.621*** (0.004)\n",
      "-----------------------------------------------\n",
      "Country?            Yes               No       \n",
      "Sector?             Yes               No       \n",
      "-----------------------------------------------\n",
      "Observations      88,815            88,815     \n",
      "R2                 0.417            0.030      \n",
      "Adjusted R2        0.417            0.030      \n",
      "===============================================\n",
      "Note:               *p<0.1; **p<0.05; ***p<0.01\n"
     ]
    }
   ],
   "source": [
    "reg3_1 = lm(log_rev_empl ~ ip_owner + patent_owner, data = Data)\n",
    "reg3_2 = lm(log_rev_empl ~ ip_owner + patent_owner + sme + sector + country, data = Data)\n",
    "reg_cov_labels <- c(\"B1\", \"B2\", \"SME\")\n",
    "stargazer(reg3_2,reg3_1, type = \"text\", style=\"all2\", dep.var.labels = \"$log (Rev / Employee)$\", covariate.labels=reg_cov_labels,  omit = c(\"country\",\"sector\"), omit.labels = c(\"Country?\",\"Sector?\"), title=\"Inclusive Indicators Analysis\", align=TRUE, single.row = TRUE, keep.stat = c(\"n\",\"rsq\",\"adj.rsq\",\"res.dev\",\"aic\", \"bic\"))"
   ]
  },
  {
   "cell_type": "markdown",
   "metadata": {},
   "source": [
    "### Focus on Trade Mark Right Ownership"
   ]
  },
  {
   "cell_type": "code",
   "execution_count": 86,
   "metadata": {},
   "outputs": [
    {
     "data": {
      "image/png": "[encoded data removed]",
      "text/plain": [
       "plot without title"
      ]
     },
     "metadata": {},
     "output_type": "display_data"
    }
   ],
   "source": [
    "grid.newpage()\n",
    "\n",
    "# Modify the VennDiagram Function using Trace for the present R Kernel session\n",
    "# trace(draw.pairwise.venn, edit=TRUE)\n",
    "# line To Be replaced: cell.labels <- areas\n",
    "# Replacement Line: cell.labels <- paste0(areas,\" : \", round( 100*areas/sum(areas), 1), \"%\")\n",
    "\n",
    "IP_Right_Type_usage <- draw.triple.venn(\n",
    "    area1 = nrow(subset(venn_data, patent_owner == 1)), \n",
    "    area2 = nrow(subset(venn_data, tm_owner == 1)), \n",
    "    area3 = nrow(subset(venn_data, des_owner == 1)), \n",
    "    n12 = nrow(subset(venn_data, patent_owner == 1 & tm_owner == 1)), \n",
    "    n23 = nrow(subset(venn_data, tm_owner == 1 & des_owner == 1)), \n",
    "    n13 = nrow(subset(venn_data, patent_owner == 1 & des_owner == 1)), \n",
    "    n123 = nrow(subset(venn_data, patent_owner == 1 & tm_owner == 1 & des_owner == 1)), \n",
    "    category = c(\"Patent Users\", \"TM Users\", \"Design Users\"),     \n",
    "\n",
    "    # Circles\n",
    "    lwd = 2,\n",
    "    fill = c(\"white\", \"red\", \"white\"),\n",
    "    alpha=c(0.,0.9,0.),\n",
    "    \n",
    "    # Numbers\n",
    "    cex = .8,\n",
    "    fontface = \"bold\",\n",
    "    fontfamily = \"sans\",\n",
    "    \n",
    "    # Set Names\n",
    "    cat.cex = 0.8,\n",
    "    cat.fontface = \"bold\",\n",
    "    cat.default.pos = \"outer\",\n",
    "    cat.dist = c(0.045, 0.035, 0.025),\n",
    "    cat.fontfamily = \"sans\",\n",
    "    rotation = 1,\n",
    "    \n",
    "    # Image Output\n",
    "    filename = NULL,\n",
    "    euler.d = TRUE,\n",
    "    scaled = TRUE\n",
    ")"
   ]
  },
  {
   "cell_type": "markdown",
   "metadata": {},
   "source": [
    "#### Regression Model based on non exclusive indicators\n",
    "\n",
    "__Log (Rev/Empl) = &Beta;<sub>0</sub> + &Beta;<sub>1</sub> IP<sub>owner</sub> + &Beta;<sub>2</sub> TM<sub>owner</sub> + e__\n",
    "\n",
    "$\n",
    "\\begin{equation*}\n",
    " E(Log(Rev/Empl)) =\n",
    "    \\begin{cases}\n",
    "        \\beta_0 & IP_{Owner} = 0,  TM_{Owner} = 0\\\\\n",
    "        \\beta_0 + \\beta_1 & IP_{Owner} = 1, TM_{Owner} = 0\\\\\n",
    "        \\beta_0 + \\beta_1 + \\beta_2 & IP_{Owner} = 1, \\, TM_{Owner} = 1 \n",
    "    \\end{cases}\n",
    "\\end{equation*}\n",
    "$\n",
    "\n",
    "__&Beta;<sub>0</sub>:__ provides the mean value for the base category which is the mean value for the ***Non Ip Owners***  \n",
    "__&Beta;<sub>1</sub>:__ provides the difference in terms of mean value between firms which own ***Any Kind of IP Right except for Trade Marks*** and ***Non Ip Owners*** firms  \n",
    "__&Beta;<sub>2</sub>:__ provides the difference in terms of mean value between firms which own ***at least one Trade Mark*** and firms owning ***Any Kind of IP Right except for Trade Marks***   "
   ]
  },
  {
   "cell_type": "code",
   "execution_count": 87,
   "metadata": {},
   "outputs": [
    {
     "name": "stdout",
     "output_type": "stream",
     "text": [
      "\n",
      "Inclusive Indicators Analysis\n",
      "===============================================\n",
      "                    Dependent variable:        \n",
      "             ----------------------------------\n",
      "                    log (Rev / Employee)       \n",
      "                    (1)              (2)       \n",
      "-----------------------------------------------\n",
      "B1           0.150*** (0.026)  0.458*** (0.033)\n",
      "B2           0.077*** (0.027)   -0.008 (0.034) \n",
      "SME          -0.417*** (0.009)                 \n",
      "Constant     5.052*** (0.261)  4.621*** (0.004)\n",
      "-----------------------------------------------\n",
      "Country?            Yes               No       \n",
      "Sector?             Yes               No       \n",
      "-----------------------------------------------\n",
      "Observations      88,815            88,815     \n",
      "R2                 0.417            0.028      \n",
      "Adjusted R2        0.417            0.028      \n",
      "===============================================\n",
      "Note:               *p<0.1; **p<0.05; ***p<0.01\n"
     ]
    }
   ],
   "source": [
    "reg4_1 = lm(log_rev_empl ~ ip_owner + tm_owner, data = Data)\n",
    "reg4_2 = lm(log_rev_empl ~ ip_owner + tm_owner + sme + sector + country, data = Data)\n",
    "reg_cov_labels <- c(\"B1\", \"B2\", \"SME\")\n",
    "stargazer(reg4_2,reg4_1, type = \"text\", style=\"all2\", dep.var.labels = \"$log (Rev / Employee)$\", covariate.labels=reg_cov_labels, omit = c(\"country\",\"sector\"), omit.labels = c(\"Country?\",\"Sector?\"), title=\"Inclusive Indicators Analysis\", align=TRUE, single.row = TRUE, keep.stat = c(\"n\",\"rsq\",\"adj.rsq\",\"res.dev\",\"aic\", \"bic\"))"
   ]
  },
  {
   "cell_type": "markdown",
   "metadata": {},
   "source": [
    "### Focus on Design Right Ownership"
   ]
  },
  {
   "cell_type": "code",
   "execution_count": 88,
   "metadata": {},
   "outputs": [
    {
     "data": {
      "image/png": "[encoded data removed]",
      "text/plain": [
       "plot without title"
      ]
     },
     "metadata": {},
     "output_type": "display_data"
    }
   ],
   "source": [
    "grid.newpage()\n",
    "\n",
    "# Modify the VennDiagram Function using Trace for the present R Kernel session\n",
    "# trace(draw.pairwise.venn, edit=TRUE)\n",
    "# line To Be replaced: cell.labels <- areas\n",
    "# Replacement Line: cell.labels <- paste0(areas,\" : \", round( 100*areas/sum(areas), 1), \"%\")\n",
    "\n",
    "IP_Right_Type_usage <- draw.triple.venn(\n",
    "    area1 = nrow(subset(venn_data, patent_owner == 1)), \n",
    "    area2 = nrow(subset(venn_data, tm_owner == 1)), \n",
    "    area3 = nrow(subset(venn_data, des_owner == 1)), \n",
    "    n12 = nrow(subset(venn_data, patent_owner == 1 & tm_owner == 1)), \n",
    "    n23 = nrow(subset(venn_data, tm_owner == 1 & des_owner == 1)), \n",
    "    n13 = nrow(subset(venn_data, patent_owner == 1 & des_owner == 1)), \n",
    "    n123 = nrow(subset(venn_data, patent_owner == 1 & tm_owner == 1 & des_owner == 1)), \n",
    "    category = c(\"Patent Users\", \"TM Users\", \"Design Users\"),     \n",
    "\n",
    "    # Circles\n",
    "    lwd = 2,\n",
    "    fill = c(\"white\", \"white\", \"red\"),\n",
    "    alpha=c(0.,0.,0.9),\n",
    "    \n",
    "    # Numbers\n",
    "    cex = .8,\n",
    "    fontface = \"bold\",\n",
    "    fontfamily = \"sans\",\n",
    "    \n",
    "    # Set Names\n",
    "    cat.cex = 0.8,\n",
    "    cat.fontface = \"bold\",\n",
    "    cat.default.pos = \"outer\",\n",
    "    cat.dist = c(0.045, 0.035, 0.025),\n",
    "    cat.fontfamily = \"sans\",\n",
    "    rotation = 1,\n",
    "    \n",
    "    # Image Output\n",
    "    filename = NULL,\n",
    "    euler.d = TRUE,\n",
    "    scaled = TRUE\n",
    ")"
   ]
  },
  {
   "cell_type": "markdown",
   "metadata": {},
   "source": [
    "#### Regression Model based on non exclusive indicators\n",
    "\n",
    "__Log (Rev/Empl) = &Beta;<sub>0</sub> + &Beta;<sub>1</sub> IP<sub>owner</sub> + &Beta;<sub>2</sub> DES<sub>owner</sub> + e__\n",
    "\n",
    "$\n",
    "\\begin{equation*}\n",
    " E(Log(Rev/Empl)) =\n",
    "    \\begin{cases}\n",
    "        \\beta_0 & IP_{Owner} = 0,  DES_{Owner} = 0\\\\\n",
    "        \\beta_0 + \\beta_1 & IP_{Owner} = 1, DES_{Owner} = 0\\\\\n",
    "        \\beta_0 + \\beta_1 + \\beta_2 & IP_{Owner} = 1, \\, DES_{Owner} = 1 \n",
    "    \\end{cases}\n",
    "\\end{equation*}\n",
    "$\n",
    "\n",
    "__&Beta;<sub>0</sub>:__ provides the mean value for the base category which is the mean value for the ***Non Ip Owners***  \n",
    "__&Beta;<sub>1</sub>:__ provides the difference in terms of mean value between firms which own ***Any Kind of IP Right except for Designs*** and ***Non Ip Owners*** firms  \n",
    "__&Beta;<sub>2</sub>:__ provides the difference in terms of mean value between firms which own ***at least one Design*** and firms owning ***Any Kind of IP Right except for Designs***"
   ]
  },
  {
   "cell_type": "code",
   "execution_count": 90,
   "metadata": {},
   "outputs": [
    {
     "name": "stdout",
     "output_type": "stream",
     "text": [
      "\n",
      "Inclusive Indicators Analysis\n",
      "===============================================\n",
      "                    Dependent variable:        \n",
      "             ----------------------------------\n",
      "                    log (Rev / Employee)       \n",
      "                    (1)              (2)       \n",
      "-----------------------------------------------\n",
      "B1           0.226*** (0.008)  0.420*** (0.010)\n",
      "B2            -0.018 (0.017)   0.202*** (0.022)\n",
      "SME          -0.418*** (0.009)                 \n",
      "Constant     5.057*** (0.261)  4.621*** (0.004)\n",
      "-----------------------------------------------\n",
      "Country?            Yes               No       \n",
      "Sector?             Yes               No       \n",
      "-----------------------------------------------\n",
      "Observations      88,815            88,815     \n",
      "R2                 0.417            0.029      \n",
      "Adjusted R2        0.417            0.029      \n",
      "===============================================\n",
      "Note:               *p<0.1; **p<0.05; ***p<0.01\n"
     ]
    }
   ],
   "source": [
    "reg5_1 = lm(log_rev_empl ~ ip_owner + des_owner, data = Data)\n",
    "reg5_2 = lm(log_rev_empl ~ ip_owner + des_owner + sme + sector + country, data = Data)\n",
    "reg_cov_labels <- c(\"B1\", \"B2\", \"SME\")\n",
    "stargazer(reg5_2, reg5_1, type = \"text\", style=\"all2\", dep.var.labels = \"$log (Rev / Employee)$\", covariate.labels=reg_cov_labels, omit = c(\"country\",\"sector\"), omit.labels = c(\"Country?\",\"Sector?\"), title=\"Inclusive Indicators Analysis\", align=TRUE, single.row = TRUE, keep.stat = c(\"n\",\"rsq\",\"adj.rsq\",\"res.dev\",\"aic\", \"bic\"))"
   ]
  },
  {
   "cell_type": "code",
   "execution_count": null,
   "metadata": {},
   "outputs": [],
   "source": []
  }
 ],
 "metadata": {
  "kernelspec": {
   "display_name": "R",
   "language": "R",
   "name": "ir"
  },
  "language_info": {
   "codemirror_mode": "r",
   "file_extension": ".r",
   "mimetype": "text/x-r-source",
   "name": "R",
   "pygments_lexer": "r",
   "version": "3.6.1"
  }
 },
 "nbformat": 4,
 "nbformat_minor": 4
}
